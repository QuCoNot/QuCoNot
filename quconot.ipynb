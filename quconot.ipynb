{
 "cells": [
  {
   "attachments": {},
   "cell_type": "markdown",
   "id": "b1c2f667",
   "metadata": {},
   "source": [
    "# QuCoNot Module Guide\n",
    "\n",
    "In this Jupyter notebook, we're going to demonstrate the multi-controlled Toffoli implementations, verifications and transformations based on the manuscript \"Classification of permutation implementations for quantum computing\".\n",
    "\n",
    "In order to run the script in this notebook, a `qiskit-aer` package is required which is not a primary dependency of the package. You can install it by running the following block. "
   ]
  },
  {
   "cell_type": "code",
   "execution_count": 1,
   "id": "6650500c",
   "metadata": {},
   "outputs": [
    {
     "name": "stdout",
     "output_type": "stream",
     "text": [
      "Requirement already satisfied: qiskit-aer in /Library/Frameworks/Python.framework/Versions/3.11/lib/python3.11/site-packages (0.13.0)\n",
      "Requirement already satisfied: qiskit>=0.44.0 in /Library/Frameworks/Python.framework/Versions/3.11/lib/python3.11/site-packages (from qiskit-aer) (0.45.0)\n",
      "Requirement already satisfied: numpy>=1.16.3 in /Library/Frameworks/Python.framework/Versions/3.11/lib/python3.11/site-packages (from qiskit-aer) (1.25.1)\n",
      "Requirement already satisfied: scipy>=1.0 in /Library/Frameworks/Python.framework/Versions/3.11/lib/python3.11/site-packages (from qiskit-aer) (1.11.1)\n",
      "Requirement already satisfied: qiskit-terra==0.45.0 in /Library/Frameworks/Python.framework/Versions/3.11/lib/python3.11/site-packages (from qiskit>=0.44.0->qiskit-aer) (0.45.0)\n",
      "Requirement already satisfied: rustworkx>=0.13.0 in /Library/Frameworks/Python.framework/Versions/3.11/lib/python3.11/site-packages (from qiskit-terra==0.45.0->qiskit>=0.44.0->qiskit-aer) (0.13.1)\n",
      "Requirement already satisfied: ply>=3.10 in /Library/Frameworks/Python.framework/Versions/3.11/lib/python3.11/site-packages (from qiskit-terra==0.45.0->qiskit>=0.44.0->qiskit-aer) (3.11)\n",
      "Requirement already satisfied: psutil>=5 in /Library/Frameworks/Python.framework/Versions/3.11/lib/python3.11/site-packages (from qiskit-terra==0.45.0->qiskit>=0.44.0->qiskit-aer) (5.9.5)\n",
      "Requirement already satisfied: sympy>=1.3 in /Library/Frameworks/Python.framework/Versions/3.11/lib/python3.11/site-packages (from qiskit-terra==0.45.0->qiskit>=0.44.0->qiskit-aer) (1.12)\n",
      "Requirement already satisfied: dill>=0.3 in /Library/Frameworks/Python.framework/Versions/3.11/lib/python3.11/site-packages (from qiskit-terra==0.45.0->qiskit>=0.44.0->qiskit-aer) (0.3.7)\n",
      "Requirement already satisfied: python-dateutil>=2.8.0 in /Library/Frameworks/Python.framework/Versions/3.11/lib/python3.11/site-packages (from qiskit-terra==0.45.0->qiskit>=0.44.0->qiskit-aer) (2.8.2)\n",
      "Requirement already satisfied: stevedore>=3.0.0 in /Library/Frameworks/Python.framework/Versions/3.11/lib/python3.11/site-packages (from qiskit-terra==0.45.0->qiskit>=0.44.0->qiskit-aer) (5.1.0)\n",
      "Requirement already satisfied: symengine<0.10,>=0.9 in /Library/Frameworks/Python.framework/Versions/3.11/lib/python3.11/site-packages (from qiskit-terra==0.45.0->qiskit>=0.44.0->qiskit-aer) (0.9.2)\n",
      "Requirement already satisfied: six>=1.5 in /Library/Frameworks/Python.framework/Versions/3.11/lib/python3.11/site-packages (from python-dateutil>=2.8.0->qiskit-terra==0.45.0->qiskit>=0.44.0->qiskit-aer) (1.16.0)\n",
      "Requirement already satisfied: pbr!=2.1.0,>=2.0.0 in /Library/Frameworks/Python.framework/Versions/3.11/lib/python3.11/site-packages (from stevedore>=3.0.0->qiskit-terra==0.45.0->qiskit>=0.44.0->qiskit-aer) (5.11.1)\n",
      "Requirement already satisfied: mpmath>=0.19 in /Library/Frameworks/Python.framework/Versions/3.11/lib/python3.11/site-packages (from sympy>=1.3->qiskit-terra==0.45.0->qiskit>=0.44.0->qiskit-aer) (1.3.0)\n",
      "Note: you may need to restart the kernel to use updated packages.\n"
     ]
    }
   ],
   "source": [
    "%pip install qiskit-aer"
   ]
  },
  {
   "attachments": {},
   "cell_type": "markdown",
   "id": "fd343f23",
   "metadata": {},
   "source": [
    "## Implementations\n",
    "\n",
    "We have implemented some of the multi-controlled Toffoli implementations listed in Table 1. First, we will start by importing each implementation.\n",
    "\n",
    "<!-- <div>\n",
    "<img src=\"img/summary_mct.png\" width=\"800\"/>\n",
    "</div> -->"
   ]
  },
  {
   "cell_type": "code",
   "execution_count": 2,
   "id": "f1de6f7d",
   "metadata": {},
   "outputs": [],
   "source": [
    "from qiskit import transpile\n",
    "from quconot.implementations import (\n",
    "    MCTBarenco74Dirty, \n",
    "    MCTBarenco75Dirty,\n",
    "    MCTCleanWastingEntangling,\n",
    "    MCTDirtyWastingEntangling, \n",
    "    MCTNoAuxiliary, \n",
    "    MCTNoAuxiliaryRelative,\n",
    "    MCTParallelDecomposition,\n",
    "    MCTRecursion,\n",
    "    MCTVChain,\n",
    "    MCTVChainDirty,\n",
    "    MCTQclibLdmcu\n",
    ")"
   ]
  },
  {
   "attachments": {},
   "cell_type": "markdown",
   "id": "d1c8745b",
   "metadata": {},
   "source": [
    "## Verifications\n",
    "\n",
    "Next, we import the functions needed for verifying the implementations. Verification for each implementation is summarized in Table 2 from the paper.\n",
    "\n",
    "<!-- <div>\n",
    "<img src=\"img/verification_table.png\" width=\"800\"/>\n",
    "</div> -->"
   ]
  },
  {
   "cell_type": "code",
   "execution_count": 3,
   "id": "83689a2b",
   "metadata": {},
   "outputs": [],
   "source": [
    "from quconot.verifications import (\n",
    "    verify_circuit_strict_clean_non_wasting,\n",
    "    verify_circuit_relative_clean_non_wasting,\n",
    "    verify_circuit_strict_clean_wasting_entangled,\n",
    "    verify_circuit_relative_clean_wasting_separable,\n",
    "    verify_circuit_strict_clean_wasting_separable,\n",
    "    verify_circuit_strict_dirty_non_wasting,\n",
    "    verify_circuit_relative_dirty_non_wasting,\n",
    "    verify_circuit_strict_dirty_wasting_entangled,\n",
    "    verify_circuit_relative_dirty_wasting_separable,\n",
    "    verify_circuit_strict_dirty_wasting_separable\n",
    ")"
   ]
  },
  {
   "attachments": {},
   "cell_type": "markdown",
   "id": "2b0dd757",
   "metadata": {},
   "source": [
    "Using the imported functions, we create the necessary functions for printing the verification result."
   ]
  },
  {
   "cell_type": "code",
   "execution_count": 4,
   "id": "a7659d79",
   "metadata": {},
   "outputs": [],
   "source": [
    "from qiskit import Aer\n",
    "\n",
    "usim = Aer.get_backend('unitary_simulator')\n",
    "    \n",
    "\n",
    "def get_ref_unitary(control_no):\n",
    "    mct = MCTNoAuxiliary(control_no)\n",
    "    circ = mct.generate_circuit()\n",
    "    circ = transpile(circ, basis_gates=[\"cx\", \"u3\"])\n",
    "    return usim.run(circ).result().get_unitary()\n",
    "        \n",
    "def verify_all(tested_matrix, ref_unitary):\n",
    "    rd = {}\n",
    "\n",
    "    rd[\"SCNW\"] = verify_circuit_strict_clean_non_wasting(tested_matrix, ref_unitary)\n",
    "    rd[\"RCNW\"] = verify_circuit_relative_clean_non_wasting(tested_matrix, ref_unitary)\n",
    "    rd[\"SCWE\"] = verify_circuit_strict_clean_wasting_entangled(tested_matrix, ref_unitary)\n",
    "    rd[\"RCWS\"] = verify_circuit_relative_clean_wasting_separable(tested_matrix, ref_unitary)\n",
    "    rd[\"SCWS\"] = verify_circuit_strict_clean_wasting_separable(tested_matrix, ref_unitary)\n",
    "    rd[\"SDNW\"] = verify_circuit_strict_dirty_non_wasting(tested_matrix, ref_unitary)\n",
    "    rd[\"RDNW\"] = verify_circuit_relative_dirty_non_wasting(tested_matrix, ref_unitary)\n",
    "    rd[\"SDWE\"] = verify_circuit_strict_dirty_wasting_entangled(tested_matrix, ref_unitary)\n",
    "    rd[\"RDWS\"] = verify_circuit_relative_dirty_wasting_separable(tested_matrix, ref_unitary)\n",
    "    rd[\"SDWS\"] = verify_circuit_strict_dirty_wasting_separable(tested_matrix, ref_unitary)\n",
    "    \n",
    "    for k in rd:\n",
    "        if rd[k][0]:\n",
    "            print(\"This implementation belongs to \" + k)\n",
    "        else:\n",
    "            print(\"This implementation doesn't belong to \" + k)\n",
    "    "
   ]
  },
  {
   "attachments": {},
   "cell_type": "markdown",
   "id": "dbcd276c",
   "metadata": {},
   "source": [
    "## Application\n",
    "\n",
    "For a particular implementation, we will first generate the quantum circuit for MCT with 5 control qubits. Next, we will get the corresponding unitary. Finally, we will verify whether each implementation is correct using the imported functions. Note that the verifications should also follow the inclusion relations illustrated in Figure 1. \n",
    "\n",
    "<div>\n",
    "<img src=\"img/classification.png\" width=\"500\"/>\n",
    "</div>\n"
   ]
  },
  {
   "attachments": {},
   "cell_type": "markdown",
   "id": "04292624",
   "metadata": {},
   "source": [
    "### Barenco"
   ]
  },
  {
   "attachments": {},
   "cell_type": "markdown",
   "id": "a0da51b5",
   "metadata": {},
   "source": [
    "Now we have an example for Barenco 74, which is considered to be in the class \"Strict Dirty Non-Wasting\". Based on the above DAG, it should pass all the verifications associated with any class that is a superset of S-D-NW."
   ]
  },
  {
   "cell_type": "code",
   "execution_count": 6,
   "id": "8e0a27fc",
   "metadata": {},
   "outputs": [
    {
     "name": "stdout",
     "output_type": "stream",
     "text": [
      "This implementation belongs to SCNW\n",
      "This implementation belongs to RCNW\n",
      "This implementation belongs to SCWE\n",
      "This implementation belongs to RCWS\n",
      "This implementation belongs to SCWS\n",
      "This implementation belongs to SDNW\n",
      "This implementation belongs to RDNW\n",
      "This implementation belongs to SDWE\n",
      "This implementation belongs to RDWS\n",
      "This implementation belongs to SDWS\n"
     ]
    }
   ],
   "source": [
    "control_no = 5\n",
    "mct = MCTBarenco74Dirty(control_no)\n",
    "circ = transpile(mct.generate_circuit(), basis_gates=[\"cx\", \"u3\"])\n",
    "tested_matrix = usim.run(circ).result().get_unitary().data\n",
    "ref_unitary = get_ref_unitary(control_no)\n",
    "verify_all(tested_matrix, ref_unitary)"
   ]
  },
  {
   "attachments": {},
   "cell_type": "markdown",
   "id": "d970fd8b",
   "metadata": {},
   "source": [
    "As you can see from the result, the clean and dirty auxiliary tests are failed because they are outside of the DAG path.\n",
    "\n",
    "Now, we have Barenco 75 which is an implementation without auxiliary:"
   ]
  },
  {
   "cell_type": "code",
   "execution_count": 7,
   "id": "19d469b2",
   "metadata": {},
   "outputs": [
    {
     "name": "stdout",
     "output_type": "stream",
     "text": [
      "This implementation belongs to SCNW\n",
      "This implementation belongs to RCNW\n",
      "This implementation belongs to SCWE\n",
      "This implementation belongs to RCWS\n",
      "This implementation belongs to SCWS\n",
      "This implementation belongs to SDNW\n",
      "This implementation belongs to RDNW\n",
      "This implementation belongs to SDWE\n",
      "This implementation belongs to RDWS\n",
      "This implementation belongs to SDWS\n"
     ]
    }
   ],
   "source": [
    "control_no = 5\n",
    "mct = MCTBarenco75Dirty(control_no)\n",
    "circ = transpile(mct.generate_circuit(), basis_gates=[\"cx\", \"u3\"])\n",
    "tested_matrix = usim.run(circ).result().get_unitary().data\n",
    "ref_unitary = get_ref_unitary(control_no)\n",
    "verify_all(tested_matrix, ref_unitary)"
   ]
  },
  {
   "attachments": {},
   "cell_type": "markdown",
   "id": "31ade590",
   "metadata": {},
   "source": [
    "### Qiskit\n",
    "\n",
    "Next, we will consider implementations from Qiskit. In Qiskit, MCT can be implemented with parameters v-chain, v-chain-dirty, and recursion, which we wrapped inside the functions MCTVChain, MCTVChainDirty, and MCTRecursion. "
   ]
  },
  {
   "cell_type": "code",
   "execution_count": 8,
   "id": "fdeef618",
   "metadata": {},
   "outputs": [
    {
     "name": "stdout",
     "output_type": "stream",
     "text": [
      "This implementation belongs to SCNW\n",
      "This implementation belongs to RCNW\n",
      "This implementation belongs to SCWE\n",
      "This implementation belongs to RCWS\n",
      "This implementation belongs to SCWS\n",
      "This implementation doesn't belong to SDNW\n",
      "This implementation doesn't belong to RDNW\n",
      "This implementation doesn't belong to SDWE\n",
      "This implementation doesn't belong to RDWS\n",
      "This implementation doesn't belong to SDWS\n"
     ]
    }
   ],
   "source": [
    "control_no = 5\n",
    "mct = MCTVChain(control_no)\n",
    "circ = transpile(mct.generate_circuit(), basis_gates=[\"cx\", \"u3\"])\n",
    "tested_matrix = usim.run(circ).result().get_unitary().data\n",
    "ref_unitary = get_ref_unitary(control_no)\n",
    "verify_all(tested_matrix, ref_unitary)"
   ]
  },
  {
   "cell_type": "code",
   "execution_count": 9,
   "id": "8f2795ac",
   "metadata": {},
   "outputs": [
    {
     "name": "stdout",
     "output_type": "stream",
     "text": [
      "This implementation belongs to SCNW\n",
      "This implementation belongs to RCNW\n",
      "This implementation belongs to SCWE\n",
      "This implementation belongs to RCWS\n",
      "This implementation belongs to SCWS\n",
      "This implementation belongs to SDNW\n",
      "This implementation belongs to RDNW\n",
      "This implementation belongs to SDWE\n",
      "This implementation belongs to RDWS\n",
      "This implementation belongs to SDWS\n"
     ]
    }
   ],
   "source": [
    "control_no = 5\n",
    "mct = MCTVChainDirty(control_no)\n",
    "circ = transpile(mct.generate_circuit(), basis_gates=[\"cx\", \"u3\"])\n",
    "tested_matrix = usim.run(circ).result().get_unitary().data\n",
    "ref_unitary = get_ref_unitary(control_no)\n",
    "verify_all(tested_matrix, ref_unitary)"
   ]
  },
  {
   "attachments": {},
   "cell_type": "markdown",
   "id": "6038dee7",
   "metadata": {},
   "source": [
    "Since V-Chain-Dirty belongs to \"Strict Dirty Non-Wasting\" class, it passes all the verifications."
   ]
  },
  {
   "cell_type": "code",
   "execution_count": 10,
   "id": "554a40bc",
   "metadata": {},
   "outputs": [
    {
     "name": "stdout",
     "output_type": "stream",
     "text": [
      "This implementation belongs to SCNW\n",
      "This implementation belongs to RCNW\n",
      "This implementation belongs to SCWE\n",
      "This implementation belongs to RCWS\n",
      "This implementation belongs to SCWS\n",
      "This implementation belongs to SDNW\n",
      "This implementation belongs to RDNW\n",
      "This implementation belongs to SDWE\n",
      "This implementation belongs to RDWS\n",
      "This implementation belongs to SDWS\n"
     ]
    }
   ],
   "source": [
    "control_no = 5\n",
    "mct = MCTRecursion(control_no)\n",
    "circ = transpile(mct.generate_circuit(), basis_gates=[\"cx\", \"u3\"])\n",
    "tested_matrix = usim.run(circ).result().get_unitary().data\n",
    "ref_unitary = get_ref_unitary(control_no)\n",
    "verify_all(tested_matrix, ref_unitary)"
   ]
  },
  {
   "attachments": {},
   "cell_type": "markdown",
   "id": "a342a218",
   "metadata": {},
   "source": [
    "Like V-Chain-Dirty, recursion belongs to \"Strict Dirty Non-Wasting\" class and it passes all the verifications."
   ]
  },
  {
   "attachments": {},
   "cell_type": "markdown",
   "id": "50cbfc14",
   "metadata": {},
   "source": [
    "### Parallel Decomposition\n",
    "\n",
    "This is the implementation based on the logarithmic depth construction from the paper 'Efficient Constructions for Simulating Multi Controlled Quantum Gates' https://dx.doi.org/10.1007/978-3-031-08760-8_16 \n",
    "The Toffoli gates used here are strict. The paper uses relative Toffoli gates."
   ]
  },
  {
   "cell_type": "code",
   "execution_count": 11,
   "id": "aa056754",
   "metadata": {},
   "outputs": [
    {
     "name": "stdout",
     "output_type": "stream",
     "text": [
      "This implementation belongs to SCNW\n",
      "This implementation belongs to RCNW\n",
      "This implementation belongs to SCWE\n",
      "This implementation belongs to RCWS\n",
      "This implementation belongs to SCWS\n",
      "This implementation doesn't belong to SDNW\n",
      "This implementation doesn't belong to RDNW\n",
      "This implementation doesn't belong to SDWE\n",
      "This implementation doesn't belong to RDWS\n",
      "This implementation doesn't belong to SDWS\n"
     ]
    }
   ],
   "source": [
    "control_no = 5\n",
    "mct = MCTParallelDecomposition(control_no)\n",
    "circ = transpile(mct.generate_circuit(), basis_gates=[\"cx\", \"u3\"])\n",
    "tested_matrix = usim.run(circ).result().get_unitary().data\n",
    "ref_unitary = get_ref_unitary(control_no)\n",
    "verify_all(tested_matrix, ref_unitary)\n"
   ]
  },
  {
   "cell_type": "markdown",
   "id": "0a758465-97e0-45cb-a004-63aea65643c6",
   "metadata": {},
   "source": [
    "### QCLIB - LDMCU\n",
    "\n",
    "This is the no-auxilliary implementation from https://arxiv.org/abs/2203.11882"
   ]
  },
  {
   "cell_type": "code",
   "execution_count": 12,
   "id": "34ed4330-73a0-4494-935a-5604fb9c12fc",
   "metadata": {},
   "outputs": [
    {
     "name": "stdout",
     "output_type": "stream",
     "text": [
      "This implementation belongs to SCNW\n",
      "This implementation belongs to RCNW\n",
      "This implementation belongs to SCWE\n",
      "This implementation belongs to RCWS\n",
      "This implementation belongs to SCWS\n",
      "This implementation belongs to SDNW\n",
      "This implementation belongs to RDNW\n",
      "This implementation belongs to SDWE\n",
      "This implementation belongs to RDWS\n",
      "This implementation belongs to SDWS\n"
     ]
    }
   ],
   "source": [
    "control_no = 5\n",
    "mct = MCTQclibLdmcu(control_no)\n",
    "circ = transpile(mct.generate_circuit(), basis_gates=[\"cx\", \"u3\"])\n",
    "tested_matrix = usim.run(circ).result().get_unitary().data\n",
    "ref_unitary = get_ref_unitary(control_no)\n",
    "verify_all(tested_matrix, ref_unitary)"
   ]
  },
  {
   "cell_type": "markdown",
   "id": "1191c1fe",
   "metadata": {},
   "source": [
    "## Clean and Dirty Wasting Entangling implementations\n",
    "\n",
    "Finally, below we provide an implementations designed in [here](...), which are the only members of the Strict and Dirty Wasting Entangling classes intruduce in the same paper."
   ]
  },
  {
   "cell_type": "code",
   "execution_count": 13,
   "id": "7f6201e1",
   "metadata": {},
   "outputs": [
    {
     "name": "stdout",
     "output_type": "stream",
     "text": [
      "This implementation doesn't belong to SCNW\n",
      "This implementation doesn't belong to RCNW\n",
      "This implementation belongs to SCWE\n",
      "This implementation doesn't belong to RCWS\n",
      "This implementation doesn't belong to SCWS\n",
      "This implementation doesn't belong to SDNW\n",
      "This implementation doesn't belong to RDNW\n",
      "This implementation doesn't belong to SDWE\n",
      "This implementation doesn't belong to RDWS\n",
      "This implementation doesn't belong to SDWS\n"
     ]
    }
   ],
   "source": [
    "control_no = 4\n",
    "mct = MCTCleanWastingEntangling(control_no)\n",
    "circ = transpile(mct.generate_circuit(), basis_gates=[\"cx\", \"u3\"])\n",
    "tested_matrix = usim.run(circ).result().get_unitary().data\n",
    "ref_unitary = get_ref_unitary(control_no)\n",
    "verify_all(tested_matrix, ref_unitary)"
   ]
  },
  {
   "cell_type": "code",
   "execution_count": 7,
   "id": "a0f88c19",
   "metadata": {},
   "outputs": [
    {
     "name": "stdout",
     "output_type": "stream",
     "text": [
      "This implementation doesn't belong to SCNW\n",
      "This implementation doesn't belong to RCNW\n",
      "This implementation belongs to SCWE\n",
      "This implementation doesn't belong to RCWS\n",
      "This implementation doesn't belong to SCWS\n",
      "This implementation doesn't belong to SDNW\n",
      "This implementation doesn't belong to RDNW\n",
      "This implementation belongs to SDWE\n",
      "This implementation doesn't belong to RDWS\n",
      "This implementation doesn't belong to SDWS\n"
     ]
    }
   ],
   "source": [
    "control_no = 5\n",
    "mct = MCTDirtyWastingEntangling(control_no)\n",
    "circ = transpile(mct.generate_circuit(), basis_gates=[\"cx\", \"u3\"])\n",
    "tested_matrix = usim.run(circ).result().get_unitary().data\n",
    "ref_unitary = get_ref_unitary(control_no)\n",
    "verify_all(tested_matrix, ref_unitary)"
   ]
  },
  {
   "attachments": {},
   "cell_type": "markdown",
   "id": "dfdd75e1",
   "metadata": {},
   "source": [
    "# Transformations\n",
    "\n",
    "Now we'll look at Lemma 7.2 from Barenco et al. and use it to showcase some of the transformations from the paper.\n",
    "\n",
    "Below we define a function to implement Lemma 7.2"
   ]
  },
  {
   "cell_type": "code",
   "execution_count": 8,
   "id": "ef02ce50",
   "metadata": {},
   "outputs": [],
   "source": [
    "import numpy as np\n",
    "from qiskit import QuantumCircuit, Aer\n",
    "\n",
    "controls_to_check = 5\n",
    "\n",
    "\n",
    "def lemma_7_2(num_controls=5):\n",
    "    if num_controls < 3:\n",
    "        raise ValueError(\"Number of controls must be >=3\")\n",
    "\n",
    "    n = 2 * num_controls - 1\n",
    "    assert np.ceil(n / 2) == num_controls\n",
    "\n",
    "    qc = QuantumCircuit(n)\n",
    "\n",
    "    auxs = list(range(num_controls, n - 1))\n",
    "    num_aux = len(auxs)\n",
    "\n",
    "    controls = list(range(num_controls))\n",
    "    target = n - 1\n",
    "    print(n, controls, auxs, target)\n",
    "\n",
    "    for i, c2 in enumerate(auxs[::-1]):\n",
    "        qc.ccx(c2 - num_aux, c2, target - i)\n",
    "    qc.ccx(0, 1, auxs[0])\n",
    "    for i, c2 in enumerate(auxs):\n",
    "        qc.ccx(c2 - num_aux, c2, target - num_aux + 1 + i)\n",
    "\n",
    "    for i, c2 in enumerate(auxs[::-1]):\n",
    "        if c2 == auxs[-1]:\n",
    "            continue\n",
    "        qc.ccx(c2 - num_aux, c2, target - i)\n",
    "    qc.ccx(0, 1, auxs[0])\n",
    "    for i, c2 in enumerate(auxs):\n",
    "        if c2 == auxs[-1]:\n",
    "            continue\n",
    "        qc.ccx(c2 - num_aux, c2, target - num_aux + 1 + i)\n",
    "\n",
    "    MCT = QuantumCircuit(n)\n",
    "    MCT.mct(controls, target, auxs)\n",
    "\n",
    "    return qc, MCT, controls, auxs, target"
   ]
  },
  {
   "cell_type": "code",
   "execution_count": 9,
   "id": "01e24935",
   "metadata": {},
   "outputs": [
    {
     "name": "stdout",
     "output_type": "stream",
     "text": [
      "9 [0, 1, 2, 3, 4] [5, 6, 7] 8\n",
      "                                                                 \n",
      "q_0: ─────────────────■─────────────────────────────■────────────\n",
      "                      │                             │            \n",
      "q_1: ─────────────────■─────────────────────────────■────────────\n",
      "                      │                             │            \n",
      "q_2: ────────────■────┼────■───────────────────■────┼────■───────\n",
      "                 │    │    │                   │    │    │       \n",
      "q_3: ───────■────┼────┼────┼────■─────────■────┼────┼────┼────■──\n",
      "            │    │    │    │    │         │    │    │    │    │  \n",
      "q_4: ──■────┼────┼────┼────┼────┼────■────┼────┼────┼────┼────┼──\n",
      "       │    │    │  ┌─┴─┐  │    │    │    │    │  ┌─┴─┐  │    │  \n",
      "q_5: ──┼────┼────■──┤ X ├──■────┼────┼────┼────■──┤ X ├──■────┼──\n",
      "       │    │  ┌─┴─┐└───┘┌─┴─┐  │    │    │  ┌─┴─┐└───┘┌─┴─┐  │  \n",
      "q_6: ──┼────■──┤ X ├─────┤ X ├──■────┼────■──┤ X ├─────┤ X ├──■──\n",
      "       │  ┌─┴─┐└───┘     └───┘┌─┴─┐  │  ┌─┴─┐└───┘     └───┘┌─┴─┐\n",
      "q_7: ──■──┤ X ├───────────────┤ X ├──■──┤ X ├───────────────┤ X ├\n",
      "     ┌─┴─┐└───┘               └───┘┌─┴─┐└───┘               └───┘\n",
      "q_8: ┤ X ├─────────────────────────┤ X ├─────────────────────────\n",
      "     └───┘                         └───┘                         \n"
     ]
    },
    {
     "name": "stderr",
     "output_type": "stream",
     "text": [
      "/var/folders/v6/623nkjns6rs5jqzt737r741m0000gn/T/ipykernel_64540/4061057848.py:40: DeprecationWarning: The method ``qiskit.circuit.quantumcircuit.QuantumCircuit.mct()`` is deprecated as of qiskit 0.45.0. It will be removed no earlier than 3 months after the release date. Use QuantumCircuit.mcx as direct replacement.\n",
      "  MCT.mct(controls, target, auxs)\n"
     ]
    }
   ],
   "source": [
    "simulator = Aer.get_backend('aer_simulator')\n",
    "circ, mct, controls, auxs, target = lemma_7_2(controls_to_check)\n",
    "print(circ.draw(fold=-1))"
   ]
  },
  {
   "cell_type": "markdown",
   "id": "17110448",
   "metadata": {},
   "source": [
    "This circuit assumes dirty auxiliary qubits. If we have clean auxiliaries, and the implementation is non-wasted, the circuit can be transformed to reduce the number of gates used.\n",
    "\n",
    "Below, we have a function which takes a circuit and it's control and auxiliary qubits and outputs a transformed clean circuit.\n",
    "(Note: This function is an example and does not work for a general circuit.)"
   ]
  },
  {
   "cell_type": "code",
   "execution_count": 10,
   "id": "cfc97e69",
   "metadata": {},
   "outputs": [],
   "source": [
    "def transform_clean_nonwasted(circuit, all_controls, all_auxs, target):\n",
    "    all_auxs_copy = all_auxs.copy()\n",
    "    num_all_controls = len(all_controls)\n",
    "    num_all_auxs = len(all_auxs)\n",
    "\n",
    "    instructions = circuit.data\n",
    "    print(len(instructions))\n",
    "    remove_ins = []\n",
    "\n",
    "    for i, instruction in reversed(list(enumerate(instructions))):\n",
    "        c1 = instruction.qubits[0]._index\n",
    "        c2 = instruction.qubits[1]._index\n",
    "        t = instruction.qubits[2]._index\n",
    "        if c1 in all_auxs_copy:\n",
    "            remove_ins.append(i)\n",
    "            continue\n",
    "        if c2 in all_auxs_copy:\n",
    "            remove_ins.append(i)\n",
    "            continue\n",
    "        if t in all_auxs_copy:\n",
    "            all_auxs_copy.remove(t)\n",
    "            continue\n",
    "\n",
    "    all_auxs_copy = all_auxs.copy()\n",
    "    for i, instruction in enumerate(instructions):\n",
    "        c1 = instruction.qubits[0]._index\n",
    "        c2 = instruction.qubits[1]._index\n",
    "        t = instruction.qubits[2]._index\n",
    "        if c1 in all_auxs_copy:\n",
    "            remove_ins.append(i)\n",
    "            continue\n",
    "        if c2 in all_auxs_copy:\n",
    "            remove_ins.append(i)\n",
    "            continue\n",
    "        if t in all_auxs_copy:\n",
    "            all_auxs_copy.remove(t)\n",
    "            continue\n",
    "\n",
    "    print(remove_ins)\n",
    "    remaining_instructions = [i for j, i in enumerate(instructions) if j not in set(remove_ins)]\n",
    "\n",
    "    clean_circuit = QuantumCircuit(num_all_controls + num_all_auxs + 1)\n",
    "    for instruction in remaining_instructions:\n",
    "        c1 = instruction.qubits[0]._index\n",
    "        c2 = instruction.qubits[1]._index\n",
    "        t = instruction.qubits[2]._index\n",
    "        clean_circuit.ccx(c1, c2, t)\n",
    "\n",
    "    return clean_circuit"
   ]
  },
  {
   "cell_type": "code",
   "execution_count": 11,
   "id": "ad9ddfb6",
   "metadata": {},
   "outputs": [
    {
     "name": "stdout",
     "output_type": "stream",
     "text": [
      "[0, 1, 2, 3, 4] [5, 6, 7] 8\n",
      "12\n",
      "[11, 10, 0, 1, 2]\n",
      "                                        \n",
      "q_0: ──■─────────────────────────────■──\n",
      "       │                             │  \n",
      "q_1: ──■─────────────────────────────■──\n",
      "       │                             │  \n",
      "q_2: ──┼────■───────────────────■────┼──\n",
      "       │    │                   │    │  \n",
      "q_3: ──┼────┼────■─────────■────┼────┼──\n",
      "       │    │    │         │    │    │  \n",
      "q_4: ──┼────┼────┼────■────┼────┼────┼──\n",
      "     ┌─┴─┐  │    │    │    │    │  ┌─┴─┐\n",
      "q_5: ┤ X ├──■────┼────┼────┼────■──┤ X ├\n",
      "     └───┘┌─┴─┐  │    │    │  ┌─┴─┐└───┘\n",
      "q_6: ─────┤ X ├──■────┼────■──┤ X ├─────\n",
      "          └───┘┌─┴─┐  │  ┌─┴─┐└───┘     \n",
      "q_7: ──────────┤ X ├──■──┤ X ├──────────\n",
      "               └───┘┌─┴─┐└───┘          \n",
      "q_8: ───────────────┤ X ├───────────────\n",
      "                    └───┘               \n"
     ]
    }
   ],
   "source": [
    "print(controls, auxs, target)\n",
    "clean_circ = transform_clean_nonwasted(circ, controls, auxs, target)\n",
    "print(clean_circ.draw(fold=-1))"
   ]
  },
  {
   "cell_type": "markdown",
   "id": "bc3ccdb7",
   "metadata": {},
   "source": [
    "Here, we see that the transformed circuit has removed gates that would have had no action on clean auxiliaries.\n",
    "\n",
    "Next, we have a function that can take a circuit and transform it into its wasted version.\n",
    "(Note: This function is an example and does not work for a general circuit.)"
   ]
  },
  {
   "cell_type": "code",
   "execution_count": 12,
   "id": "97e4710b",
   "metadata": {},
   "outputs": [],
   "source": [
    "def transform_to_wasting(circuit, all_controls, all_auxs, target):\n",
    "    all_auxs = all_auxs.copy()\n",
    "    num_all_controls = len(all_controls)\n",
    "    num_all_auxs = len(all_auxs)\n",
    "\n",
    "    instructions = circuit.data\n",
    "    remove_ins = []\n",
    "    for i, instruction in enumerate(instructions[::-1]):\n",
    "        c1 = instruction.qubits[0]._index\n",
    "        c2 = instruction.qubits[1]._index\n",
    "        t = instruction.qubits[2]._index\n",
    "        if t in all_auxs:\n",
    "            remove_ins.append(i)\n",
    "            continue\n",
    "        else:\n",
    "            break\n",
    "\n",
    "    remaining_instructions = [i for j, i in enumerate(instructions[::-1]) if j not in set(remove_ins)]\n",
    "\n",
    "    wasted_circuit = QuantumCircuit(num_all_controls + num_all_auxs + 1)\n",
    "    for instruction in remaining_instructions[::-1]:\n",
    "        if instruction.operation.name == 'ccx':\n",
    "            c1 = instruction.qubits[0]._index\n",
    "            c2 = instruction.qubits[1]._index\n",
    "            t = instruction.qubits[2]._index\n",
    "            wasted_circuit.ccx(c1, c2, t)\n",
    "\n",
    "    return wasted_circuit"
   ]
  },
  {
   "cell_type": "code",
   "execution_count": 13,
   "id": "0a6dee78",
   "metadata": {},
   "outputs": [
    {
     "name": "stdout",
     "output_type": "stream",
     "text": [
      "                                        \n",
      "q_0: ─────────────────■─────────────────\n",
      "                      │                 \n",
      "q_1: ─────────────────■─────────────────\n",
      "                      │                 \n",
      "q_2: ────────────■────┼────■────────────\n",
      "                 │    │    │            \n",
      "q_3: ───────■────┼────┼────┼────■───────\n",
      "            │    │    │    │    │       \n",
      "q_4: ──■────┼────┼────┼────┼────┼────■──\n",
      "       │    │    │  ┌─┴─┐  │    │    │  \n",
      "q_5: ──┼────┼────■──┤ X ├──■────┼────┼──\n",
      "       │    │  ┌─┴─┐└───┘┌─┴─┐  │    │  \n",
      "q_6: ──┼────■──┤ X ├─────┤ X ├──■────┼──\n",
      "       │  ┌─┴─┐└───┘     └───┘┌─┴─┐  │  \n",
      "q_7: ──■──┤ X ├───────────────┤ X ├──■──\n",
      "     ┌─┴─┐└───┘               └───┘┌─┴─┐\n",
      "q_8: ┤ X ├─────────────────────────┤ X ├\n",
      "     └───┘                         └───┘\n"
     ]
    }
   ],
   "source": [
    "wasted_circ = transform_to_wasting(circ, controls, auxs, target)\n",
    "print(wasted_circ.draw(fold=-1))"
   ]
  },
  {
   "cell_type": "markdown",
   "id": "8e7616c9",
   "metadata": {},
   "source": [
    "We can see that removing the gates that act to get the auxiliaries back to their original state, we can reduce the number of gates significantly but at the cost of having wasted auxiliaries.\n",
    "\n",
    "We can use the clean auxiliary circuit from before and pass it through this function to get a clean wasted circuit."
   ]
  },
  {
   "cell_type": "code",
   "execution_count": 14,
   "id": "856a1154",
   "metadata": {},
   "outputs": [
    {
     "name": "stdout",
     "output_type": "stream",
     "text": [
      "                         \n",
      "q_0: ──■─────────────────\n",
      "       │                 \n",
      "q_1: ──■─────────────────\n",
      "       │                 \n",
      "q_2: ──┼────■────────────\n",
      "       │    │            \n",
      "q_3: ──┼────┼────■───────\n",
      "       │    │    │       \n",
      "q_4: ──┼────┼────┼────■──\n",
      "     ┌─┴─┐  │    │    │  \n",
      "q_5: ┤ X ├──■────┼────┼──\n",
      "     └───┘┌─┴─┐  │    │  \n",
      "q_6: ─────┤ X ├──■────┼──\n",
      "          └───┘┌─┴─┐  │  \n",
      "q_7: ──────────┤ X ├──■──\n",
      "               └───┘┌─┴─┐\n",
      "q_8: ───────────────┤ X ├\n",
      "                    └───┘\n"
     ]
    }
   ],
   "source": [
    "clean_wasted_circ = transform_to_wasting(clean_circ, controls, auxs, target)\n",
    "print(clean_wasted_circ.draw(fold=-1))"
   ]
  },
  {
   "cell_type": "code",
   "execution_count": null,
   "id": "022ba652-d574-4b40-830f-6260611d0d4b",
   "metadata": {},
   "outputs": [],
   "source": []
  },
  {
   "cell_type": "code",
   "execution_count": null,
   "id": "46dd83d3-1468-4ad7-bc13-c3909c636a04",
   "metadata": {},
   "outputs": [],
   "source": []
  }
 ],
 "metadata": {
  "kernelspec": {
   "display_name": "Python 3 (ipykernel)",
   "language": "python",
   "name": "python3"
  },
  "language_info": {
   "codemirror_mode": {
    "name": "ipython",
    "version": 3
   },
   "file_extension": ".py",
   "mimetype": "text/x-python",
   "name": "python",
   "nbconvert_exporter": "python",
   "pygments_lexer": "ipython3",
   "version": "3.11.4"
  }
 },
 "nbformat": 4,
 "nbformat_minor": 5
}
