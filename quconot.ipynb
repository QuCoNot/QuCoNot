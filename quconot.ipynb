{
 "cells": [
  {
   "attachments": {},
   "cell_type": "markdown",
   "id": "b1c2f667",
   "metadata": {},
   "source": [
    "# QuCoNot Module Guide\n",
    "\n",
    "In this Jupyter notebook, we're going to demonstrate the multi-controlled Toffoli implementations, verifications and transformations based on the manuscript \"Classification of permutation implementations for quantum computing\".\n"
   ]
  },
  {
   "attachments": {},
   "cell_type": "markdown",
   "id": "fd343f23",
   "metadata": {},
   "source": [
    "## Implementations\n",
    "\n",
    "We have implemented some of the multi-controlled Toffoli implementations listed in Table 1. First, we will start by importing each implementation.\n",
    "\n",
    "<div>\n",
    "<img src=\"img/summary_mct.png\" width=\"800\"/>\n",
    "</div>"
   ]
  },
  {
   "cell_type": "code",
   "execution_count": 1,
   "id": "f1de6f7d",
   "metadata": {},
   "outputs": [],
   "source": [
    "from quconot.implementations import (\n",
    "    MCTBarenco74Dirty, \n",
    "    MCTBarenco75Dirty, \n",
    "    MCTNoAuxiliary, \n",
    "    MCTNoAuxiliaryRelative, \n",
    "    MCTNQubitDecomposition,\n",
    "    MCTParallelDecomposition,\n",
    "    MCTRecursion,\n",
    "    MCTVChain,\n",
    "    MCTVChainDirty\n",
    ")"
   ]
  },
  {
   "attachments": {},
   "cell_type": "markdown",
   "id": "d1c8745b",
   "metadata": {},
   "source": [
    "## Verifications\n",
    "\n",
    "Next, we import the functions needed for verifying the implementations. Verification for each implementation is summarized in Table 2.\n",
    "\n",
    "<div>\n",
    "<img src=\"img/verification_table.png\" width=\"800\"/>\n",
    "</div>"
   ]
  },
  {
   "cell_type": "code",
   "execution_count": 2,
   "id": "83689a2b",
   "metadata": {},
   "outputs": [],
   "source": [
    "from quconot.verifications import (\n",
    "    verify_circuit_strict_clean_non_wasting,\n",
    "    verify_circuit_relative_clean_non_wasting,\n",
    "    verify_circuit_strict_clean_wasting_entangled,\n",
    "    verify_circuit_relative_clean_wasting_separable,\n",
    "    verify_circuit_strict_clean_wasting_separable,\n",
    "    verify_circuit_strict_dirty_non_wasting,\n",
    "    verify_circuit_relative_dirty_non_wasting,\n",
    "    verify_circuit_strict_dirty_wasting_entangled,\n",
    "    verify_circuit_relative_dirty_wasting_separable,\n",
    "    verify_circuit_strict_dirty_wasting_separable,\n",
    "    verify_circuit_no_auxiliary,\n",
    "    verify_circuit_no_auxiliary_relative\n",
    ")"
   ]
  },
  {
   "attachments": {},
   "cell_type": "markdown",
   "id": "2b0dd757",
   "metadata": {},
   "source": [
    "Using the imported functions, we create the necessary functions for printing the verification result."
   ]
  },
  {
   "cell_type": "code",
   "execution_count": 68,
   "id": "a7659d79",
   "metadata": {},
   "outputs": [],
   "source": [
    "from qiskit import Aer\n",
    "\n",
    "usim = Aer.get_backend('unitary_simulator')\n",
    "\n",
    "def print_result(classification, res):\n",
    "    if res[0]:\n",
    "        print(\"This implementation belongs to \" + classification)\n",
    "    else:\n",
    "        print(\"This implementation doesn't belong to \" + classification)\n",
    "        \n",
    "def verify_all(unitary, reverse_unitary, control_no, auxiliary_no):\n",
    "    rd = {}\n",
    "    \n",
    "    rd[\"SCNW\"] = verify_circuit_strict_clean_non_wasting(unitary, control_no, auxiliary_no)\n",
    "    rd[\"RCNW\"] = verify_circuit_relative_clean_non_wasting(unitary, control_no, auxiliary_no)\n",
    "    rd[\"SCWE\"] = verify_circuit_strict_clean_wasting_entangled(unitary, control_no, auxiliary_no)\n",
    "    rd[\"RCWS\"] = verify_circuit_relative_clean_wasting_separable(unitary, control_no, auxiliary_no)\n",
    "    rd[\"SCWS\"] = verify_circuit_strict_clean_wasting_separable(unitary, control_no, auxiliary_no)\n",
    "    rd[\"SDNW\"] = verify_circuit_strict_dirty_non_wasting(unitary, control_no, auxiliary_no)\n",
    "    rd[\"RDNW\"] = verify_circuit_relative_dirty_non_wasting(unitary, control_no, auxiliary_no)\n",
    "    rd[\"SDWE\"] = verify_circuit_strict_dirty_wasting_entangled(unitary, control_no, auxiliary_no)\n",
    "    rd[\"RDWS\"] = verify_circuit_relative_dirty_wasting_separable(reverse_unitary, control_no, auxiliary_no)\n",
    "    rd[\"SDWS\"] = verify_circuit_strict_dirty_wasting_separable(reverse_unitary, control_no, auxiliary_no)\n",
    "    \n",
    "    print_result(\"SDNW\", rd[\"SDNW\"])\n",
    "    if rd[\"SDNW\"][0]:\n",
    "        print_result(\"SCNW\", rd[\"SCNW\"])\n",
    "        print_result(\"RDNW\", rd[\"RDNW\"])\n",
    "        print_result(\"SDWS\", rd[\"SDWS\"])\n",
    "\n",
    "    if rd[\"RDNW\"][0]:\n",
    "        print_result(\"RCNW\", rd[\"RCNW\"])\n",
    "        print_result(\"RDWS\", rd[\"RDWS\"])\n",
    "\n",
    "    if rd[\"SDWS\"][0]:\n",
    "        print_result(\"SCWS\", rd[\"SCWS\"])\n",
    "        print_result(\"RDWS\", rd[\"RDWS\"])\n",
    "\n",
    "    if rd[\"SDWE\"][0]:\n",
    "        print_result(\"SCWE\", rd[\"SCWE\"])\n",
    "\n",
    "    if rd[\"SCNW\"][0]:\n",
    "        print_result(\"RCNW\", rd[\"RCNW\"])\n",
    "        print_result(\"SCWS\", rd[\"SCWS\"])\n",
    "\n",
    "    if rd[\"SCWS\"][0]:\n",
    "        print_result(\"RCWS\", rd[\"RCWS\"])\n",
    "\n",
    "    if rd[\"RCNW\"][0]:\n",
    "        print_result(\"RCWS\", rd[\"RCWS\"])\n",
    "\n",
    "    if rd[\"RDWS\"][0]:\n",
    "        print_result(\"SDWE\", rd[\"SDWE\"])\n",
    "\n",
    "    if rd[\"RCWS\"][0]:\n",
    "        print_result(\"SCWE\", rd[\"SCWE\"])\n"
   ]
  },
  {
   "attachments": {},
   "cell_type": "markdown",
   "id": "dbcd276c",
   "metadata": {},
   "source": [
    "## Application\n",
    "\n",
    "For a particular implementation, we will first generate the quantum circuit for MCT with 5 control qubits. Next, we will get the corresponding unitary. Finally, we will verify whether each implementation is correct using the imported functions. Note that the verifications should also follow the inclusion relations illustrated in Figure 1. \n",
    "\n",
    "<div>\n",
    "<img src=\"img/classification.png\" width=\"500\"/>\n",
    "</div>\n"
   ]
  },
  {
   "attachments": {},
   "cell_type": "markdown",
   "id": "ef63e316",
   "metadata": {},
   "source": [
    "### No Auxiliary\n",
    "\n",
    "We will start with the most basic implementation which is No-Auxiliary."
   ]
  },
  {
   "cell_type": "code",
   "execution_count": 69,
   "id": "b274f03e",
   "metadata": {},
   "outputs": [
    {
     "name": "stdout",
     "output_type": "stream",
     "text": [
      "This implementation belongs to No Auxiliary\n",
      "This implementation belongs to No Auxiliary Relative\n"
     ]
    }
   ],
   "source": [
    "control_no = 5\n",
    "mct = MCTNoAuxiliary(control_no)\n",
    "circ = mct.generate_circuit()\n",
    "unitary = usim.run(circ).result().get_unitary()\n",
    "\n",
    "print_result(\"No Auxiliary\", verify_circuit_no_auxiliary(unitary, control_no, mct.num_auxiliary_qubits()))\n",
    "print_result(\"No Auxiliary Relative\", verify_circuit_no_auxiliary_relative(unitary, control_no, mct.num_auxiliary_qubits()))"
   ]
  },
  {
   "cell_type": "code",
   "execution_count": 70,
   "id": "ec51b680",
   "metadata": {},
   "outputs": [
    {
     "name": "stdout",
     "output_type": "stream",
     "text": [
      "This implementation doesn't belong to No Auxiliary\n",
      "This implementation belongs to No Auxiliary Relative\n"
     ]
    }
   ],
   "source": [
    "control_no = 3\n",
    "mct = MCTNoAuxiliaryRelative(control_no)\n",
    "circ = mct.generate_circuit()\n",
    "unitary = usim.run(circ).result().get_unitary()\n",
    "\n",
    "print_result(\"No Auxiliary\", verify_circuit_no_auxiliary(unitary, control_no, mct.num_auxiliary_qubits()))\n",
    "print_result(\"No Auxiliary Relative\", verify_circuit_no_auxiliary_relative(unitary, control_no, mct.num_auxiliary_qubits()))"
   ]
  },
  {
   "attachments": {},
   "cell_type": "markdown",
   "id": "04292624",
   "metadata": {},
   "source": [
    "### Barenco"
   ]
  },
  {
   "attachments": {},
   "cell_type": "markdown",
   "id": "a0da51b5",
   "metadata": {},
   "source": [
    "Now we have an example for Barenco 74, which is considered to be in the class \"Relative Dirty Non-Wasting\". Based on the above DAG, it should pass all the verifications associated with any class that is a superset of R-D-NW."
   ]
  },
  {
   "cell_type": "code",
   "execution_count": 71,
   "id": "8e0a27fc",
   "metadata": {},
   "outputs": [
    {
     "name": "stdout",
     "output_type": "stream",
     "text": [
      "This implementation doesn't belong to DNW\n",
      "This implementation belongs to CNWR\n",
      "This implementation belongs to DWRS\n",
      "This implementation belongs to CWRE\n",
      "This implementation belongs to CWRS\n",
      "This implementation belongs to DWRE\n",
      "This implementation belongs to CWRE\n",
      "--- Failed ---\n",
      "This implementation doesn't belong to DNW\n",
      "This implementation doesn't belong to CNW\n"
     ]
    }
   ],
   "source": [
    "control_no = 5\n",
    "mct = MCTBarenco74Dirty(control_no)\n",
    "circ = mct.generate_circuit()\n",
    "unitary = usim.run(circ).result().get_unitary()\n",
    "reverse_unitary = usim.run(circ.reverse_bits()).result().get_unitary()\n",
    "auxiliary_no = mct.num_auxiliary_qubits()\n",
    "\n",
    "verify_all(unitary, reverse_unitary, control_no, auxiliary_no)\n",
    "\n",
    "# Examples of the expected to be failed\n",
    "\n",
    "print(\"--- Failed ---\")\n",
    "print_result(\"SDNW\", verify_circuit_strict_dirty_non_wasting(unitary, 5, mct.num_auxiliary_qubits()))\n",
    "print_result(\"SCNW\", verify_circuit_strict_clean_non_wasting(unitary, 5, mct.num_auxiliary_qubits()))"
   ]
  },
  {
   "attachments": {},
   "cell_type": "markdown",
   "id": "d970fd8b",
   "metadata": {},
   "source": [
    "As you can see from the result, the clean and dirty auxiliary tests are failed because they are outside of the DAG path.\n",
    "\n",
    "Now, we have Barenco 75 which is an implementation without auxiliary:"
   ]
  },
  {
   "cell_type": "code",
   "execution_count": 72,
   "id": "19d469b2",
   "metadata": {},
   "outputs": [
    {
     "name": "stdout",
     "output_type": "stream",
     "text": [
      "This implementation belongs to No Auxiliary\n",
      "This implementation belongs to No Auxiliary Relative\n"
     ]
    }
   ],
   "source": [
    "mct = MCTBarenco75Dirty(5)\n",
    "circ = mct.generate_circuit()\n",
    "unitary = usim.run(circ).result().get_unitary()\n",
    "\n",
    "print_result(\"No Auxiliary\", verify_circuit_no_auxiliary(unitary, control_no, mct.num_auxiliary_qubits()))\n",
    "print_result(\"No Auxiliary Relative\", verify_circuit_no_auxiliary_relative(unitary, control_no, mct.num_auxiliary_qubits()))"
   ]
  },
  {
   "attachments": {},
   "cell_type": "markdown",
   "id": "31ade590",
   "metadata": {},
   "source": [
    "### Qiskit\n",
    "\n",
    "Next, we will consider implementations from Qiskit. In Qiskit, MCT can be implemented with parameters v-chain, v-chain-dirty, and recursion, which we wrapped inside the functions MCTVChain, MCTVChainDirty, and MCTRecursion. "
   ]
  },
  {
   "cell_type": "code",
   "execution_count": 73,
   "id": "fdeef618",
   "metadata": {},
   "outputs": [
    {
     "name": "stdout",
     "output_type": "stream",
     "text": [
      "This implementation doesn't belong to DNW\n",
      "This implementation belongs to CWRE\n",
      "This implementation belongs to CNWR\n",
      "This implementation belongs to CWS\n",
      "This implementation belongs to CWRS\n",
      "This implementation belongs to CWRS\n",
      "This implementation belongs to CWRE\n"
     ]
    }
   ],
   "source": [
    "control_no = 5\n",
    "mct = MCTVChain(control_no)\n",
    "circ = mct.generate_circuit()\n",
    "unitary = usim.run(circ).result().get_unitary()\n",
    "reverse_unitary = usim.run(circ.reverse_bits()).result().get_unitary()\n",
    "auxiliary_no = mct.num_auxiliary_qubits()\n",
    "\n",
    "verify_all(unitary, reverse_unitary, control_no, auxiliary_no)"
   ]
  },
  {
   "cell_type": "code",
   "execution_count": 74,
   "id": "8f2795ac",
   "metadata": {},
   "outputs": [
    {
     "name": "stdout",
     "output_type": "stream",
     "text": [
      "This implementation belongs to DNW\n",
      "This implementation belongs to CNW\n",
      "This implementation belongs to DNWR\n",
      "This implementation belongs to DWS\n",
      "This implementation belongs to CNWR\n",
      "This implementation belongs to DWRS\n",
      "This implementation belongs to CWS\n",
      "This implementation belongs to DWRS\n",
      "This implementation belongs to CWRE\n",
      "This implementation belongs to CNWR\n",
      "This implementation belongs to CWS\n",
      "This implementation belongs to CWRS\n",
      "This implementation belongs to CWRS\n",
      "This implementation belongs to DWRE\n",
      "This implementation belongs to CWRE\n"
     ]
    }
   ],
   "source": [
    "control_no = 5\n",
    "mct = MCTVChainDirty(control_no)\n",
    "circ = mct.generate_circuit()\n",
    "unitary = usim.run(circ).result().get_unitary()\n",
    "reverse_unitary = usim.run(circ.reverse_bits()).result().get_unitary()\n",
    "auxiliary_no = mct.num_auxiliary_qubits()\n",
    "\n",
    "verify_all(unitary, reverse_unitary, control_no, auxiliary_no)"
   ]
  },
  {
   "attachments": {},
   "cell_type": "markdown",
   "id": "6038dee7",
   "metadata": {},
   "source": [
    "Since V-Chain-Dirty belongs to \"Strict Dirty Non-Wasting\" class, it passes all the verifications."
   ]
  },
  {
   "cell_type": "code",
   "execution_count": 75,
   "id": "554a40bc",
   "metadata": {},
   "outputs": [
    {
     "name": "stdout",
     "output_type": "stream",
     "text": [
      "This implementation belongs to DNW\n",
      "This implementation belongs to CNW\n",
      "This implementation belongs to DNWR\n",
      "This implementation belongs to DWS\n",
      "This implementation belongs to CNWR\n",
      "This implementation belongs to DWRS\n",
      "This implementation belongs to CWS\n",
      "This implementation belongs to DWRS\n",
      "This implementation belongs to CWRE\n",
      "This implementation belongs to CNWR\n",
      "This implementation belongs to CWS\n",
      "This implementation belongs to CWRS\n",
      "This implementation belongs to CWRS\n",
      "This implementation belongs to DWRE\n",
      "This implementation belongs to CWRE\n"
     ]
    }
   ],
   "source": [
    "control_no = 5\n",
    "mct = MCTRecursion(control_no)\n",
    "circ = mct.generate_circuit()\n",
    "unitary = usim.run(circ).result().get_unitary()\n",
    "reverse_unitary = usim.run(circ.reverse_bits()).result().get_unitary()\n",
    "auxiliary_no = mct.num_auxiliary_qubits()\n",
    "\n",
    "verify_all(unitary, reverse_unitary, control_no, auxiliary_no)"
   ]
  },
  {
   "attachments": {},
   "cell_type": "markdown",
   "id": "a342a218",
   "metadata": {},
   "source": [
    "Like V-Chain-Dirty, recursion belongs to \"Strict Dirty Non-Wasting\" class and it passes all the verifications."
   ]
  },
  {
   "attachments": {},
   "cell_type": "markdown",
   "id": "7d2cc007",
   "metadata": {},
   "source": [
    "### N-Qubit Decomposition\n",
    "\n",
    "This is the implementation from paper ....\n"
   ]
  },
  {
   "cell_type": "code",
   "execution_count": 76,
   "id": "640d1711",
   "metadata": {},
   "outputs": [
    {
     "name": "stdout",
     "output_type": "stream",
     "text": [
      "This implementation belongs to DNW\n",
      "This implementation belongs to CNW\n",
      "This implementation belongs to DNWR\n",
      "This implementation belongs to DWS\n",
      "This implementation belongs to CNWR\n",
      "This implementation belongs to DWRS\n",
      "This implementation belongs to CWS\n",
      "This implementation belongs to DWRS\n",
      "This implementation belongs to CWRE\n",
      "This implementation belongs to CNWR\n",
      "This implementation belongs to CWS\n",
      "This implementation belongs to CWRS\n",
      "This implementation belongs to CWRS\n",
      "This implementation belongs to DWRE\n",
      "This implementation belongs to CWRE\n"
     ]
    }
   ],
   "source": [
    "control_no = 5\n",
    "mct = MCTNQubitDecomposition(control_no)\n",
    "circ = mct.generate_circuit()\n",
    "unitary = usim.run(circ).result().get_unitary()\n",
    "reverse_unitary = usim.run(circ.reverse_bits()).result().get_unitary()\n",
    "auxiliary_no = mct.num_auxiliary_qubits()\n",
    "\n",
    "verify_all(unitary, reverse_unitary, control_no, auxiliary_no)\n"
   ]
  },
  {
   "attachments": {},
   "cell_type": "markdown",
   "id": "50cbfc14",
   "metadata": {},
   "source": [
    "### Parallel Decomposition\n",
    "\n",
    "This is the implementation from paper ...."
   ]
  },
  {
   "cell_type": "code",
   "execution_count": 77,
   "id": "aa056754",
   "metadata": {},
   "outputs": [
    {
     "name": "stdout",
     "output_type": "stream",
     "text": [
      "This implementation doesn't belong to DNW\n",
      "This implementation belongs to CWRE\n",
      "This implementation belongs to CNWR\n",
      "This implementation belongs to CWS\n",
      "This implementation belongs to CWRS\n",
      "This implementation belongs to CWRS\n",
      "This implementation belongs to CWRE\n"
     ]
    }
   ],
   "source": [
    "control_no = 5\n",
    "mct = MCTParallelDecomposition(control_no)\n",
    "circ = mct.generate_circuit()\n",
    "unitary = usim.run(circ).result().get_unitary()\n",
    "reverse_unitary = usim.run(circ.reverse_bits()).result().get_unitary()\n",
    "auxiliary_no = mct.num_auxiliary_qubits()\n",
    "\n",
    "verify_all(unitary, reverse_unitary, control_no, auxiliary_no)\n"
   ]
  },
  {
   "attachments": {},
   "cell_type": "markdown",
   "id": "dfdd75e1",
   "metadata": {},
   "source": [
    "# Transformations"
   ]
  },
  {
   "cell_type": "code",
   "execution_count": null,
   "id": "ef02ce50",
   "metadata": {},
   "outputs": [],
   "source": [
    "import time\n",
    "from itertools import product\n",
    "\n",
    "import numpy as np\n",
    "from qiskit import QuantumCircuit, Aer, transpile\n",
    "\n",
    "controls_to_check = 5\n",
    "\n",
    "\n",
    "def lemma_7_2(num_controls=5):\n",
    "    if num_controls < 3:\n",
    "        raise ValueError(\"Number of controls must be >=3\")\n",
    "\n",
    "    n = 2 * num_controls - 1\n",
    "    assert np.ceil(n / 2) == num_controls\n",
    "\n",
    "    qc = QuantumCircuit(n)\n",
    "\n",
    "    auxs = list(range(num_controls, n - 1))\n",
    "    num_aux = len(auxs)\n",
    "\n",
    "    controls = list(range(num_controls))\n",
    "    target = n - 1\n",
    "    print(n, controls, auxs, target)\n",
    "\n",
    "    for i, c2 in enumerate(auxs[::-1]):\n",
    "        qc.ccx(c2 - num_aux, c2, target - i)\n",
    "    qc.ccx(0, 1, auxs[0])\n",
    "    for i, c2 in enumerate(auxs):\n",
    "        qc.ccx(c2 - num_aux, c2, target - num_aux + 1 + i)\n",
    "\n",
    "    for i, c2 in enumerate(auxs[::-1]):\n",
    "        if c2 == auxs[-1]:\n",
    "            continue\n",
    "        qc.ccx(c2 - num_aux, c2, target - i)\n",
    "    qc.ccx(0, 1, auxs[0])\n",
    "    for i, c2 in enumerate(auxs):\n",
    "        if c2 == auxs[-1]:\n",
    "            continue\n",
    "        qc.ccx(c2 - num_aux, c2, target - num_aux + 1 + i)\n",
    "\n",
    "    MCT = QuantumCircuit(n)\n",
    "    MCT.mct(controls, target, auxs)\n",
    "\n",
    "    return qc, MCT, controls, auxs, target"
   ]
  },
  {
   "cell_type": "code",
   "execution_count": null,
   "id": "cfc97e69",
   "metadata": {},
   "outputs": [],
   "source": [
    "simulator = Aer.get_backend('aer_simulator')\n",
    "circ, mct, controls, auxs, target = lemma_7_2(controls_to_check)\n",
    "print(circ.draw(fold=-1))\n",
    "n = circ.num_qubits\n",
    "\n",
    "bin_strs = [''.join(p) for p in product('10', repeat=n)]\n",
    "inputs = [s[::-1] for s in bin_strs]\n",
    "inputs = [list(s) for s in inputs]\n",
    "inputs = np.asarray(inputs, dtype=int)\n",
    "\n",
    "inputs"
   ]
  },
  {
   "cell_type": "code",
   "execution_count": null,
   "id": "ad9ddfb6",
   "metadata": {},
   "outputs": [],
   "source": [
    "def get_all_outputs(mct_circ):\n",
    "    t1 = time.time()\n",
    "    test_circs = [QuantumCircuit(n) for _ in bin_strs]\n",
    "    for i, test_circ in enumerate(test_circs):\n",
    "        test_circ.initialize(bin_strs[i])\n",
    "        test_circ.append(mct_circ, range(n))\n",
    "        test_circ.measure_all()\n",
    "    test_circs = transpile(test_circs, simulator)\n",
    "    res = simulator.run(test_circs, shots=100)\n",
    "    counts = res.result().get_counts()\n",
    "    outputs = [[s[::-1] for s in count.keys()] for count in counts]\n",
    "    outputs = [list(s[0]) for s in outputs]\n",
    "    outputs = np.asarray(outputs, dtype=int)\n",
    "    print(time.time() - t1)\n",
    "    return outputs\n",
    "\n",
    "\n",
    "outputs_dirty = get_all_outputs(circ)\n",
    "outputs_dirty"
   ]
  },
  {
   "cell_type": "code",
   "execution_count": null,
   "id": "97e4710b",
   "metadata": {},
   "outputs": [],
   "source": [
    "def check_mct(all_inputs, all_outputs, all_controls, all_auxs, target, all_auxs_type_in='dirty',\n",
    "              all_auxs_type_out='non_wasted'):\n",
    "    num_all_controls = len(all_controls)\n",
    "    # print(all_controls, all_auxs, target)\n",
    "    if all_auxs_type_in == 'dirty' and all_auxs_type_out == 'non_wasted':\n",
    "        same_in = (all_inputs[:, all_controls] == all_outputs[:, all_controls]).all()\n",
    "        same_all_auxs = (all_inputs[:, all_auxs] == all_outputs[:, all_auxs]).all()\n",
    "        check_active = np.where(np.sum(all_inputs[:, all_controls], axis=1) == num_all_controls)\n",
    "        check_inactive = np.where(np.sum(all_inputs[:, all_controls], axis=1) != num_all_controls)\n",
    "        active = (all_outputs[check_active, target] != all_inputs[check_active, target]).all()\n",
    "        inactive = (all_outputs[check_inactive, target] == all_inputs[check_inactive, target]).all()\n",
    "        return all([same_in, same_all_auxs, active, inactive])\n",
    "    if all_auxs_type_in == 'dirty' and all_auxs_type_out == 'wasted':\n",
    "        same_in = (all_inputs[:, all_controls] == all_outputs[:, all_controls]).all()\n",
    "        # same_all_auxs = (all_inputs[:, all_auxs] == all_outputs[:, all_auxs]).all()\n",
    "        check_active = np.where(np.sum(all_inputs[:, all_controls], axis=1) == num_all_controls)\n",
    "        check_inactive = np.where(np.sum(all_inputs[:, all_controls], axis=1) != num_all_controls)\n",
    "        active = (all_outputs[check_active, target] != all_inputs[check_active, target]).all()\n",
    "        inactive = (all_outputs[check_inactive, target] == all_inputs[check_inactive, target]).all()\n",
    "        return all([same_in, True, active, inactive])\n",
    "    if all_auxs_type_in == 'clean' and all_auxs_type_out == 'non_wasted':\n",
    "        clean_idx = np.where(np.sum(all_inputs[:, all_auxs], axis=1) == 0)\n",
    "        all_inputs = all_inputs[clean_idx]\n",
    "        all_outputs = all_outputs[clean_idx]\n",
    "        # print(clean_idx, all_inputs, all_outputs)\n",
    "        same_in = (all_inputs[:, all_controls] == all_outputs[:, all_controls]).all()\n",
    "        same_all_auxs = (all_inputs[:, all_auxs] == all_outputs[:, all_auxs]).all()\n",
    "        check_active = np.where(np.sum(all_inputs[:, all_controls], axis=1) == num_all_controls)\n",
    "        check_inactive = np.where(np.sum(all_inputs[:, all_controls], axis=1) != num_all_controls)\n",
    "        active = (all_outputs[check_active, target] != all_inputs[check_active, target]).all()\n",
    "        inactive = (all_outputs[check_inactive, target] == all_inputs[check_inactive, target]).all()\n",
    "        return all([same_in, same_all_auxs, active, inactive])\n",
    "    if all_auxs_type_in == 'clean' and all_auxs_type_out == 'wasted':\n",
    "        clean_idx = np.where(np.sum(all_inputs[:, all_auxs], axis=1) == 0)\n",
    "        all_inputs = all_inputs[clean_idx]\n",
    "        all_outputs = all_outputs[clean_idx]\n",
    "        # print(clean_idx, all_inputs, all_outputs)\n",
    "        same_in = (all_inputs[:, all_controls] == all_outputs[:, all_controls]).all()\n",
    "        # same_all_auxs = (all_inputs[:, all_auxs] == all_outputs[:, all_auxs]).all()\n",
    "        check_active = np.where(np.sum(all_inputs[:, all_controls], axis=1) == num_all_controls)\n",
    "        check_inactive = np.where(np.sum(all_inputs[:, all_controls], axis=1) != num_all_controls)\n",
    "        active = (all_outputs[check_active, target] != all_inputs[check_active, target]).all()\n",
    "        inactive = (all_outputs[check_inactive, target] == all_inputs[check_inactive, target]).all()\n",
    "        return all([same_in, True, active, inactive])\n",
    "\n",
    "\n",
    "def transform_to_clean(circuit, all_controls, all_auxs, target):\n",
    "    all_auxs = all_auxs.copy()\n",
    "    num_all_controls = len(all_controls)\n",
    "    num_all_auxs = len(all_auxs)\n",
    "\n",
    "    instructions = circuit.data\n",
    "    remove_ins = []\n",
    "    for i, instruction in enumerate(instructions):\n",
    "        c1 = instruction.qubits[0]._index\n",
    "        c2 = instruction.qubits[1]._index\n",
    "        t = instruction.qubits[2]._index\n",
    "        if c1 in all_auxs:\n",
    "            remove_ins.append(i)\n",
    "            continue\n",
    "        if c2 in all_auxs:\n",
    "            remove_ins.append(i)\n",
    "            continue\n",
    "        if t in all_auxs:\n",
    "            all_auxs.remove(t)\n",
    "            continue\n",
    "\n",
    "    remaining_instructions = [i for j, i in enumerate(instructions) if j not in set(remove_ins)]\n",
    "\n",
    "    clean_circuit = QuantumCircuit(num_all_controls + num_all_auxs + 1)\n",
    "    for instruction in remaining_instructions:\n",
    "        if instruction.operation.name == 'ccx':\n",
    "            c1 = instruction.qubits[0]._index\n",
    "            c2 = instruction.qubits[1]._index\n",
    "            t = instruction.qubits[2]._index\n",
    "            clean_circuit.ccx(c1, c2, t)\n",
    "\n",
    "    return clean_circuit\n",
    "\n",
    "\n",
    "def transform_to_wasted(circuit, all_controls, all_auxs, target):\n",
    "    all_auxs = all_auxs.copy()\n",
    "    num_all_controls = len(all_controls)\n",
    "    num_all_auxs = len(all_auxs)\n",
    "\n",
    "    instructions = circuit.data\n",
    "    remove_ins = []\n",
    "    for i, instruction in enumerate(instructions[::-1]):\n",
    "        c1 = instruction.qubits[0]._index\n",
    "        c2 = instruction.qubits[1]._index\n",
    "        t = instruction.qubits[2]._index\n",
    "        if t in all_auxs:\n",
    "            remove_ins.append(i)\n",
    "            continue\n",
    "        else:\n",
    "            break\n",
    "\n",
    "    remaining_instructions = [i for j, i in enumerate(instructions[::-1]) if j not in set(remove_ins)]\n",
    "\n",
    "    wasted_circuit = QuantumCircuit(num_all_controls + num_all_auxs + 1)\n",
    "    for instruction in remaining_instructions[::-1]:\n",
    "        if instruction.operation.name == 'ccx':\n",
    "            c1 = instruction.qubits[0]._index\n",
    "            c2 = instruction.qubits[1]._index\n",
    "            t = instruction.qubits[2]._index\n",
    "            wasted_circuit.ccx(c1, c2, t)\n",
    "\n",
    "    return wasted_circuit\n"
   ]
  },
  {
   "cell_type": "code",
   "execution_count": null,
   "id": "0a6dee78",
   "metadata": {},
   "outputs": [],
   "source": [
    "clean_circ = transform_to_clean(circ, controls, auxs, target)\n",
    "print(clean_circ.draw(fold=-1))\n",
    "outputs_clean = get_all_outputs(clean_circ)\n",
    "\n",
    "print(outputs_clean)\n"
   ]
  },
  {
   "cell_type": "code",
   "execution_count": null,
   "id": "856a1154",
   "metadata": {},
   "outputs": [],
   "source": [
    "wasted_circ = transform_to_wasted(circ, controls, auxs, target)\n",
    "print(wasted_circ.draw(fold=-1))\n",
    "outputs_wasted = get_all_outputs(wasted_circ)\n",
    "\n",
    "print(outputs_wasted)"
   ]
  },
  {
   "cell_type": "code",
   "execution_count": null,
   "id": "7c95aa26",
   "metadata": {},
   "outputs": [],
   "source": [
    "clean_wasted_circ = transform_to_wasted(clean_circ, controls, auxs, target)\n",
    "print(clean_wasted_circ.draw(fold=-1))\n",
    "outputs_clean_wasted = get_all_outputs(clean_wasted_circ)\n",
    "\n",
    "print(outputs_clean_wasted)"
   ]
  },
  {
   "cell_type": "code",
   "execution_count": null,
   "id": "2dbf21a3",
   "metadata": {},
   "outputs": [],
   "source": [
    "print(check_mct(inputs, outputs_dirty, controls, auxs, target, all_auxs_type_in='dirty', all_auxs_type_out='non_wasted'))\n",
    "print(\n",
    "    check_mct(inputs, outputs_clean, controls, auxs, target, all_auxs_type_in='clean', all_auxs_type_out='non_wasted'))\n",
    "print(check_mct(inputs, outputs_wasted, controls, auxs, target, all_auxs_type_in='dirty', all_auxs_type_out='wasted'))\n",
    "print(check_mct(inputs, outputs_clean_wasted, controls, auxs, target, all_auxs_type_in='clean',\n",
    "                all_auxs_type_out='wasted'))\n"
   ]
  },
  {
   "cell_type": "code",
   "execution_count": null,
   "id": "6260c55a",
   "metadata": {},
   "outputs": [],
   "source": []
  },
  {
   "cell_type": "code",
   "execution_count": null,
   "id": "63f90c61",
   "metadata": {},
   "outputs": [],
   "source": []
  }
 ],
 "metadata": {
  "kernelspec": {
   "display_name": "Python 3 (ipykernel)",
   "language": "python",
   "name": "python3"
  },
  "language_info": {
   "codemirror_mode": {
    "name": "ipython",
    "version": 3
   },
   "file_extension": ".py",
   "mimetype": "text/x-python",
   "name": "python",
   "nbconvert_exporter": "python",
   "pygments_lexer": "ipython3",
   "version": "3.11.4"
  }
 },
 "nbformat": 4,
 "nbformat_minor": 5
}
