{
 "cells": [
  {
   "cell_type": "markdown",
   "id": "293131ea",
   "metadata": {},
   "source": [
    "# Implementations"
   ]
  },
  {
   "cell_type": "code",
   "execution_count": 1,
   "id": "c412ce57",
   "metadata": {},
   "outputs": [],
   "source": [
    "from quconot.implementations import (\n",
    "    MCTBarenco74Dirty, \n",
    "    MCTBarenco75Dirty, \n",
    "    MCTNoAuxiliary, \n",
    "    MCTNoAuxiliaryRelative, \n",
    "    MCTNQubitDecomposition,\n",
    "    MCTParallelDecomposition,\n",
    "    MCTRecursion,\n",
    "    MCTVChain,\n",
    "    MCTVChainDirty\n",
    ")\n",
    "\n",
    "from quconot.verifications import (\n",
    "    verify_circuit_clean_auxiliary,\n",
    "    verify_circuit_clean_relative_auxiliary,\n",
    "    verify_circuit_clean_wasted_entangled_auxiliary,\n",
    "    verify_circuit_clean_wasted_relative_entangled_auxiliary,\n",
    "    verify_circuit_clean_wasted_relative_separable_auxiliary,\n",
    "    verify_circuit_clean_wasted_separable_auxiliary,\n",
    "    verify_circuit_dirty_auxiliary,\n",
    "    verify_circuit_dirty_relative_auxiliary,\n",
    "    verify_circuit_dirty_wasted_entangled_auxiliary,\n",
    "    verify_circuit_dirty_wasted_relative_separable_auxiliary,\n",
    "    verify_circuit_dirty_wasted_separable_auxiliary,\n",
    "    verify_circuit_no_auxiliary,\n",
    "    verify_circuit_no_auxiliary_relative\n",
    ")\n",
    "\n",
    "from qiskit import QuantumCircuit, transpile, Aer, IBMQ, QuantumRegister\n",
    "\n",
    "usim = Aer.get_backend('unitary_simulator')"
   ]
  },
  {
   "cell_type": "markdown",
   "id": "740e7919",
   "metadata": {},
   "source": [
    "## No Auxiliary"
   ]
  },
  {
   "cell_type": "code",
   "execution_count": 2,
   "id": "8f96d67f",
   "metadata": {},
   "outputs": [
    {
     "data": {
      "text/plain": [
       "(True, '')"
      ]
     },
     "execution_count": 2,
     "metadata": {},
     "output_type": "execute_result"
    }
   ],
   "source": [
    "mct = MCTNoAuxiliary(5)\n",
    "circ = mct.generate_circuit()\n",
    "unitary = usim.run(circ).result().get_unitary()\n",
    "verify_circuit_no_auxiliary(unitary, 5, mct.num_auxiliary_qubits())"
   ]
  },
  {
   "cell_type": "code",
   "execution_count": 3,
   "id": "46b90ae3",
   "metadata": {},
   "outputs": [
    {
     "data": {
      "text/plain": [
       "(True, '')"
      ]
     },
     "execution_count": 3,
     "metadata": {},
     "output_type": "execute_result"
    }
   ],
   "source": [
    "mct = MCTNoAuxiliaryRelative(3)\n",
    "circ = mct.generate_circuit()\n",
    "unitary = usim.run(circ).result().get_unitary()\n",
    "verify_circuit_no_auxiliary_relative(unitary, 3, mct.num_auxiliary_qubits())"
   ]
  },
  {
   "cell_type": "markdown",
   "id": "435a19ac",
   "metadata": {},
   "source": [
    "## Barenco"
   ]
  },
  {
   "cell_type": "code",
   "execution_count": 4,
   "id": "3363a456",
   "metadata": {},
   "outputs": [
    {
     "name": "stdout",
     "output_type": "stream",
     "text": [
      "(True, '')\n",
      "(True, '')\n",
      "(True, '')\n"
     ]
    }
   ],
   "source": [
    "mct = MCTBarenco74Dirty(5)\n",
    "circ = mct.generate_circuit()\n",
    "unitary = usim.run(circ).result().get_unitary()\n",
    "print(verify_circuit_dirty_relative_auxiliary(unitary, 5, mct.num_auxiliary_qubits()))\n",
    "print(verify_circuit_clean_relative_auxiliary(unitary, 5, mct.num_auxiliary_qubits()))\n",
    "print(verify_circuit_dirty_wasted_entangled_auxiliary(unitary, 5, mct.num_auxiliary_qubits()))"
   ]
  },
  {
   "cell_type": "code",
   "execution_count": 13,
   "id": "ce286ad0",
   "metadata": {},
   "outputs": [
    {
     "name": "stdout",
     "output_type": "stream",
     "text": [
      "(True, '')\n",
      "(True, '')\n"
     ]
    }
   ],
   "source": [
    "mct = MCTBarenco75Dirty(5)\n",
    "circ = mct.generate_circuit()\n",
    "unitary = usim.run(circ).result().get_unitary()\n",
    "print(verify_circuit_no_auxiliary(unitary, 5, mct.num_auxiliary_qubits()))\n",
    "print(verify_circuit_no_auxiliary_relative(unitary, 5, mct.num_auxiliary_qubits()))"
   ]
  },
  {
   "cell_type": "markdown",
   "id": "a9ba26f0",
   "metadata": {},
   "source": [
    "## Qiskit"
   ]
  },
  {
   "cell_type": "code",
   "execution_count": 15,
   "id": "271ccbbd",
   "metadata": {},
   "outputs": [
    {
     "name": "stdout",
     "output_type": "stream",
     "text": [
      "(True, '')\n",
      "(True, '')\n",
      "(True, '')\n"
     ]
    }
   ],
   "source": [
    "mct = MCTVChain(5)\n",
    "circ = mct.generate_circuit()\n",
    "unitary = usim.run(circ).result().get_unitary()\n",
    "print(verify_circuit_clean_auxiliary(unitary, 5, mct.num_auxiliary_qubits()))\n",
    "print(verify_circuit_clean_relative_auxiliary(unitary, 5, mct.num_auxiliary_qubits()))\n",
    "print(verify_circuit_dirty_wasted_entangled_auxiliary(unitary, 5, mct.num_auxiliary_qubits()))"
   ]
  },
  {
   "cell_type": "code",
   "execution_count": 16,
   "id": "4013172c",
   "metadata": {},
   "outputs": [
    {
     "name": "stdout",
     "output_type": "stream",
     "text": [
      "(True, '')\n",
      "(True, '')\n",
      "(True, '')\n"
     ]
    }
   ],
   "source": [
    "mct = MCTVChainDirty(5)\n",
    "circ = mct.generate_circuit()\n",
    "unitary = usim.run(circ).result().get_unitary()\n",
    "print(verify_circuit_clean_auxiliary(unitary, 5, mct.num_auxiliary_qubits()))\n",
    "print(verify_circuit_clean_relative_auxiliary(unitary, 5, mct.num_auxiliary_qubits()))\n",
    "print(verify_circuit_dirty_wasted_entangled_auxiliary(unitary, 5, mct.num_auxiliary_qubits()))"
   ]
  },
  {
   "cell_type": "code",
   "execution_count": 17,
   "id": "99e53c62",
   "metadata": {},
   "outputs": [
    {
     "name": "stdout",
     "output_type": "stream",
     "text": [
      "(True, '')\n",
      "(True, '')\n",
      "(True, '')\n"
     ]
    }
   ],
   "source": [
    "mct = MCTRecursion(5)\n",
    "circ = mct.generate_circuit()\n",
    "unitary = usim.run(circ).result().get_unitary()\n",
    "print(verify_circuit_clean_auxiliary(unitary, 5, mct.num_auxiliary_qubits()))\n",
    "print(verify_circuit_clean_relative_auxiliary(unitary, 5, mct.num_auxiliary_qubits()))\n",
    "print(verify_circuit_dirty_wasted_entangled_auxiliary(unitary, 5, mct.num_auxiliary_qubits()))"
   ]
  },
  {
   "cell_type": "markdown",
   "id": "a79f9e14",
   "metadata": {},
   "source": [
    "## N-Qubit Decomposition"
   ]
  },
  {
   "cell_type": "code",
   "execution_count": 18,
   "id": "bcc8b7e1",
   "metadata": {},
   "outputs": [
    {
     "name": "stdout",
     "output_type": "stream",
     "text": [
      "(True, '')\n",
      "(True, '')\n",
      "(True, '')\n"
     ]
    }
   ],
   "source": [
    "mct = MCTNQubitDecomposition(5)\n",
    "circ = mct.generate_circuit()\n",
    "unitary = usim.run(circ).result().get_unitary()\n",
    "print(verify_circuit_clean_auxiliary(unitary, 5, mct.num_auxiliary_qubits()))\n",
    "print(verify_circuit_clean_relative_auxiliary(unitary, 5, mct.num_auxiliary_qubits()))\n",
    "print(verify_circuit_dirty_wasted_entangled_auxiliary(unitary, 5, mct.num_auxiliary_qubits()))"
   ]
  },
  {
   "cell_type": "markdown",
   "id": "cefdc9cd",
   "metadata": {},
   "source": [
    "## Parallel Decomposition"
   ]
  },
  {
   "cell_type": "code",
   "execution_count": 19,
   "id": "d545d40b",
   "metadata": {},
   "outputs": [
    {
     "name": "stdout",
     "output_type": "stream",
     "text": [
      "(True, '')\n",
      "(True, '')\n",
      "(True, '')\n"
     ]
    }
   ],
   "source": [
    "mct = MCTParallelDecomposition(5)\n",
    "circ = mct.generate_circuit()\n",
    "unitary = usim.run(circ).result().get_unitary()\n",
    "print(verify_circuit_clean_auxiliary(unitary, 5, mct.num_auxiliary_qubits()))\n",
    "print(verify_circuit_clean_relative_auxiliary(unitary, 5, mct.num_auxiliary_qubits()))\n",
    "print(verify_circuit_dirty_wasted_entangled_auxiliary(unitary, 5, mct.num_auxiliary_qubits()))"
   ]
  },
  {
   "cell_type": "markdown",
   "id": "0605ea93",
   "metadata": {},
   "source": [
    "# Transformation"
   ]
  },
  {
   "cell_type": "code",
   "execution_count": 21,
   "id": "e2aaf060",
   "metadata": {},
   "outputs": [],
   "source": [
    "import time\n",
    "from itertools import product\n",
    "\n",
    "import numpy as np\n",
    "from qiskit import QuantumCircuit, Aer, transpile\n",
    "\n",
    "controls_to_check = 5\n",
    "\n",
    "\n",
    "def lemma_7_2(num_controls=5):\n",
    "    if num_controls < 3:\n",
    "        raise ValueError(\"Number of controls must be >=3\")\n",
    "\n",
    "    n = 2 * num_controls - 1\n",
    "    assert np.ceil(n / 2) == num_controls\n",
    "\n",
    "    qc = QuantumCircuit(n)\n",
    "\n",
    "    auxs = list(range(num_controls, n - 1))\n",
    "    num_aux = len(auxs)\n",
    "\n",
    "    controls = list(range(num_controls))\n",
    "    target = n - 1\n",
    "    print(n, controls, auxs, target)\n",
    "\n",
    "    for i, c2 in enumerate(auxs[::-1]):\n",
    "        qc.ccx(c2 - num_aux, c2, target - i)\n",
    "    qc.ccx(0, 1, auxs[0])\n",
    "    for i, c2 in enumerate(auxs):\n",
    "        qc.ccx(c2 - num_aux, c2, target - num_aux + 1 + i)\n",
    "\n",
    "    for i, c2 in enumerate(auxs[::-1]):\n",
    "        if c2 == auxs[-1]:\n",
    "            continue\n",
    "        qc.ccx(c2 - num_aux, c2, target - i)\n",
    "    qc.ccx(0, 1, auxs[0])\n",
    "    for i, c2 in enumerate(auxs):\n",
    "        if c2 == auxs[-1]:\n",
    "            continue\n",
    "        qc.ccx(c2 - num_aux, c2, target - num_aux + 1 + i)\n",
    "\n",
    "    MCT = QuantumCircuit(n)\n",
    "    MCT.mct(controls, target, auxs)\n",
    "\n",
    "    return qc, MCT, controls, auxs, target"
   ]
  },
  {
   "cell_type": "code",
   "execution_count": 24,
   "id": "581dc13d",
   "metadata": {},
   "outputs": [
    {
     "name": "stdout",
     "output_type": "stream",
     "text": [
      "9 [0, 1, 2, 3, 4] [5, 6, 7] 8\n",
      "                                                                 \n",
      "q_0: ─────────────────■─────────────────────────────■────────────\n",
      "                      │                             │            \n",
      "q_1: ─────────────────■─────────────────────────────■────────────\n",
      "                      │                             │            \n",
      "q_2: ────────────■────┼────■───────────────────■────┼────■───────\n",
      "                 │    │    │                   │    │    │       \n",
      "q_3: ───────■────┼────┼────┼────■─────────■────┼────┼────┼────■──\n",
      "            │    │    │    │    │         │    │    │    │    │  \n",
      "q_4: ──■────┼────┼────┼────┼────┼────■────┼────┼────┼────┼────┼──\n",
      "       │    │    │  ┌─┴─┐  │    │    │    │    │  ┌─┴─┐  │    │  \n",
      "q_5: ──┼────┼────■──┤ X ├──■────┼────┼────┼────■──┤ X ├──■────┼──\n",
      "       │    │  ┌─┴─┐└───┘┌─┴─┐  │    │    │  ┌─┴─┐└───┘┌─┴─┐  │  \n",
      "q_6: ──┼────■──┤ X ├─────┤ X ├──■────┼────■──┤ X ├─────┤ X ├──■──\n",
      "       │  ┌─┴─┐└───┘     └───┘┌─┴─┐  │  ┌─┴─┐└───┘     └───┘┌─┴─┐\n",
      "q_7: ──■──┤ X ├───────────────┤ X ├──■──┤ X ├───────────────┤ X ├\n",
      "     ┌─┴─┐└───┘               └───┘┌─┴─┐└───┘               └───┘\n",
      "q_8: ┤ X ├─────────────────────────┤ X ├─────────────────────────\n",
      "     └───┘                         └───┘                         \n"
     ]
    },
    {
     "data": {
      "text/plain": [
       "array([[1, 1, 1, ..., 1, 1, 1],\n",
       "       [0, 1, 1, ..., 1, 1, 1],\n",
       "       [1, 0, 1, ..., 1, 1, 1],\n",
       "       ...,\n",
       "       [0, 1, 0, ..., 0, 0, 0],\n",
       "       [1, 0, 0, ..., 0, 0, 0],\n",
       "       [0, 0, 0, ..., 0, 0, 0]])"
      ]
     },
     "execution_count": 24,
     "metadata": {},
     "output_type": "execute_result"
    }
   ],
   "source": [
    "simulator = Aer.get_backend('aer_simulator')\n",
    "circ, mct, controls, auxs, target = lemma_7_2(controls_to_check)\n",
    "print(circ.draw(fold=-1))\n",
    "n = circ.num_qubits\n",
    "\n",
    "bin_strs = [''.join(p) for p in product('10', repeat=n)]\n",
    "inputs = [s[::-1] for s in bin_strs]\n",
    "inputs = [list(s) for s in inputs]\n",
    "inputs = np.asarray(inputs, dtype=int)\n",
    "\n",
    "inputs"
   ]
  },
  {
   "cell_type": "code",
   "execution_count": 23,
   "id": "bb5f060b",
   "metadata": {},
   "outputs": [
    {
     "name": "stdout",
     "output_type": "stream",
     "text": [
      "30.697314977645874\n"
     ]
    }
   ],
   "source": [
    "def get_all_outputs(mct_circ):\n",
    "    t1 = time.time()\n",
    "    test_circs = [QuantumCircuit(n) for _ in bin_strs]\n",
    "    for i, test_circ in enumerate(test_circs):\n",
    "        test_circ.initialize(bin_strs[i])\n",
    "        test_circ.append(mct_circ, range(n))\n",
    "        test_circ.measure_all()\n",
    "    test_circs = transpile(test_circs, simulator)\n",
    "    res = simulator.run(test_circs, shots=100)\n",
    "    counts = res.result().get_counts()\n",
    "    outputs = [[s[::-1] for s in count.keys()] for count in counts]\n",
    "    outputs = [list(s[0]) for s in outputs]\n",
    "    outputs = np.asarray(outputs, dtype=int)\n",
    "    print(time.time() - t1)\n",
    "    return outputs\n",
    "\n",
    "\n",
    "outputs_dirty = get_all_outputs(circ)\n",
    "outputs_dirty"
   ]
  },
  {
   "cell_type": "code",
   "execution_count": 25,
   "id": "c3661af5",
   "metadata": {},
   "outputs": [],
   "source": [
    "def check_mct(all_inputs, all_outputs, all_controls, all_auxs, target, all_auxs_type_in='dirty',\n",
    "              all_auxs_type_out='non_wasted'):\n",
    "    num_all_controls = len(all_controls)\n",
    "    # print(all_controls, all_auxs, target)\n",
    "    if all_auxs_type_in == 'dirty' and all_auxs_type_out == 'non_wasted':\n",
    "        same_in = (all_inputs[:, all_controls] == all_outputs[:, all_controls]).all()\n",
    "        same_all_auxs = (all_inputs[:, all_auxs] == all_outputs[:, all_auxs]).all()\n",
    "        check_active = np.where(np.sum(all_inputs[:, all_controls], axis=1) == num_all_controls)\n",
    "        check_inactive = np.where(np.sum(all_inputs[:, all_controls], axis=1) != num_all_controls)\n",
    "        active = (all_outputs[check_active, target] != all_inputs[check_active, target]).all()\n",
    "        inactive = (all_outputs[check_inactive, target] == all_inputs[check_inactive, target]).all()\n",
    "        return all([same_in, same_all_auxs, active, inactive])\n",
    "    if all_auxs_type_in == 'dirty' and all_auxs_type_out == 'wasted':\n",
    "        same_in = (all_inputs[:, all_controls] == all_outputs[:, all_controls]).all()\n",
    "        # same_all_auxs = (all_inputs[:, all_auxs] == all_outputs[:, all_auxs]).all()\n",
    "        check_active = np.where(np.sum(all_inputs[:, all_controls], axis=1) == num_all_controls)\n",
    "        check_inactive = np.where(np.sum(all_inputs[:, all_controls], axis=1) != num_all_controls)\n",
    "        active = (all_outputs[check_active, target] != all_inputs[check_active, target]).all()\n",
    "        inactive = (all_outputs[check_inactive, target] == all_inputs[check_inactive, target]).all()\n",
    "        return all([same_in, True, active, inactive])\n",
    "    if all_auxs_type_in == 'clean' and all_auxs_type_out == 'non_wasted':\n",
    "        clean_idx = np.where(np.sum(all_inputs[:, all_auxs], axis=1) == 0)\n",
    "        all_inputs = all_inputs[clean_idx]\n",
    "        all_outputs = all_outputs[clean_idx]\n",
    "        # print(clean_idx, all_inputs, all_outputs)\n",
    "        same_in = (all_inputs[:, all_controls] == all_outputs[:, all_controls]).all()\n",
    "        same_all_auxs = (all_inputs[:, all_auxs] == all_outputs[:, all_auxs]).all()\n",
    "        check_active = np.where(np.sum(all_inputs[:, all_controls], axis=1) == num_all_controls)\n",
    "        check_inactive = np.where(np.sum(all_inputs[:, all_controls], axis=1) != num_all_controls)\n",
    "        active = (all_outputs[check_active, target] != all_inputs[check_active, target]).all()\n",
    "        inactive = (all_outputs[check_inactive, target] == all_inputs[check_inactive, target]).all()\n",
    "        return all([same_in, same_all_auxs, active, inactive])\n",
    "    if all_auxs_type_in == 'clean' and all_auxs_type_out == 'wasted':\n",
    "        clean_idx = np.where(np.sum(all_inputs[:, all_auxs], axis=1) == 0)\n",
    "        all_inputs = all_inputs[clean_idx]\n",
    "        all_outputs = all_outputs[clean_idx]\n",
    "        # print(clean_idx, all_inputs, all_outputs)\n",
    "        same_in = (all_inputs[:, all_controls] == all_outputs[:, all_controls]).all()\n",
    "        # same_all_auxs = (all_inputs[:, all_auxs] == all_outputs[:, all_auxs]).all()\n",
    "        check_active = np.where(np.sum(all_inputs[:, all_controls], axis=1) == num_all_controls)\n",
    "        check_inactive = np.where(np.sum(all_inputs[:, all_controls], axis=1) != num_all_controls)\n",
    "        active = (all_outputs[check_active, target] != all_inputs[check_active, target]).all()\n",
    "        inactive = (all_outputs[check_inactive, target] == all_inputs[check_inactive, target]).all()\n",
    "        return all([same_in, True, active, inactive])\n",
    "\n",
    "\n",
    "def transform_to_clean(circuit, all_controls, all_auxs, target):\n",
    "    all_auxs = all_auxs.copy()\n",
    "    num_all_controls = len(all_controls)\n",
    "    num_all_auxs = len(all_auxs)\n",
    "\n",
    "    instructions = circuit.data\n",
    "    remove_ins = []\n",
    "    for i, instruction in enumerate(instructions):\n",
    "        c1 = instruction.qubits[0]._index\n",
    "        c2 = instruction.qubits[1]._index\n",
    "        t = instruction.qubits[2]._index\n",
    "        if c1 in all_auxs:\n",
    "            remove_ins.append(i)\n",
    "            continue\n",
    "        if c2 in all_auxs:\n",
    "            remove_ins.append(i)\n",
    "            continue\n",
    "        if t in all_auxs:\n",
    "            all_auxs.remove(t)\n",
    "            continue\n",
    "\n",
    "    remaining_instructions = [i for j, i in enumerate(instructions) if j not in set(remove_ins)]\n",
    "\n",
    "    clean_circuit = QuantumCircuit(num_all_controls + num_all_auxs + 1)\n",
    "    for instruction in remaining_instructions:\n",
    "        if instruction.operation.name == 'ccx':\n",
    "            c1 = instruction.qubits[0]._index\n",
    "            c2 = instruction.qubits[1]._index\n",
    "            t = instruction.qubits[2]._index\n",
    "            clean_circuit.ccx(c1, c2, t)\n",
    "\n",
    "    return clean_circuit\n",
    "\n",
    "\n",
    "def transform_to_wasted(circuit, all_controls, all_auxs, target):\n",
    "    all_auxs = all_auxs.copy()\n",
    "    num_all_controls = len(all_controls)\n",
    "    num_all_auxs = len(all_auxs)\n",
    "\n",
    "    instructions = circuit.data\n",
    "    remove_ins = []\n",
    "    for i, instruction in enumerate(instructions[::-1]):\n",
    "        c1 = instruction.qubits[0]._index\n",
    "        c2 = instruction.qubits[1]._index\n",
    "        t = instruction.qubits[2]._index\n",
    "        if t in all_auxs:\n",
    "            remove_ins.append(i)\n",
    "            continue\n",
    "        else:\n",
    "            break\n",
    "\n",
    "    remaining_instructions = [i for j, i in enumerate(instructions[::-1]) if j not in set(remove_ins)]\n",
    "\n",
    "    wasted_circuit = QuantumCircuit(num_all_controls + num_all_auxs + 1)\n",
    "    for instruction in remaining_instructions[::-1]:\n",
    "        if instruction.operation.name == 'ccx':\n",
    "            c1 = instruction.qubits[0]._index\n",
    "            c2 = instruction.qubits[1]._index\n",
    "            t = instruction.qubits[2]._index\n",
    "            wasted_circuit.ccx(c1, c2, t)\n",
    "\n",
    "    return wasted_circuit\n"
   ]
  },
  {
   "cell_type": "code",
   "execution_count": 26,
   "id": "e9af6651",
   "metadata": {},
   "outputs": [
    {
     "name": "stdout",
     "output_type": "stream",
     "text": [
      "                                                  \n",
      "q_0: ──■─────────────────────────────■────────────\n",
      "       │                             │            \n",
      "q_1: ──■─────────────────────────────■────────────\n",
      "       │                             │            \n",
      "q_2: ──┼────■───────────────────■────┼────■───────\n",
      "       │    │                   │    │    │       \n",
      "q_3: ──┼────┼────■─────────■────┼────┼────┼────■──\n",
      "       │    │    │         │    │    │    │    │  \n",
      "q_4: ──┼────┼────┼────■────┼────┼────┼────┼────┼──\n",
      "     ┌─┴─┐  │    │    │    │    │  ┌─┴─┐  │    │  \n",
      "q_5: ┤ X ├──■────┼────┼────┼────■──┤ X ├──■────┼──\n",
      "     └───┘┌─┴─┐  │    │    │  ┌─┴─┐└───┘┌─┴─┐  │  \n",
      "q_6: ─────┤ X ├──■────┼────■──┤ X ├─────┤ X ├──■──\n",
      "          └───┘┌─┴─┐  │  ┌─┴─┐└───┘     └───┘┌─┴─┐\n",
      "q_7: ──────────┤ X ├──■──┤ X ├───────────────┤ X ├\n",
      "               └───┘┌─┴─┐└───┘               └───┘\n",
      "q_8: ───────────────┤ X ├─────────────────────────\n",
      "                    └───┘                         \n",
      "31.037065267562866\n",
      "[[1 1 1 ... 0 1 1]\n",
      " [0 1 1 ... 0 1 0]\n",
      " [1 0 1 ... 0 1 0]\n",
      " ...\n",
      " [0 1 0 ... 0 0 0]\n",
      " [1 0 0 ... 0 0 0]\n",
      " [0 0 0 ... 0 0 0]]\n"
     ]
    }
   ],
   "source": [
    "clean_circ = transform_to_clean(circ, controls, auxs, target)\n",
    "print(clean_circ.draw(fold=-1))\n",
    "outputs_clean = get_all_outputs(clean_circ)\n",
    "\n",
    "print(outputs_clean)\n"
   ]
  },
  {
   "cell_type": "code",
   "execution_count": 27,
   "id": "fddaef84",
   "metadata": {},
   "outputs": [
    {
     "name": "stdout",
     "output_type": "stream",
     "text": [
      "                                        \n",
      "q_0: ─────────────────■─────────────────\n",
      "                      │                 \n",
      "q_1: ─────────────────■─────────────────\n",
      "                      │                 \n",
      "q_2: ────────────■────┼────■────────────\n",
      "                 │    │    │            \n",
      "q_3: ───────■────┼────┼────┼────■───────\n",
      "            │    │    │    │    │       \n",
      "q_4: ──■────┼────┼────┼────┼────┼────■──\n",
      "       │    │    │  ┌─┴─┐  │    │    │  \n",
      "q_5: ──┼────┼────■──┤ X ├──■────┼────┼──\n",
      "       │    │  ┌─┴─┐└───┘┌─┴─┐  │    │  \n",
      "q_6: ──┼────■──┤ X ├─────┤ X ├──■────┼──\n",
      "       │  ┌─┴─┐└───┘     └───┘┌─┴─┐  │  \n",
      "q_7: ──■──┤ X ├───────────────┤ X ├──■──\n",
      "     ┌─┴─┐└───┘               └───┘┌─┴─┐\n",
      "q_8: ┤ X ├─────────────────────────┤ X ├\n",
      "     └───┘                         └───┘\n",
      "30.32071590423584\n",
      "[[1 1 1 ... 0 0 0]\n",
      " [0 1 1 ... 1 1 1]\n",
      " [1 0 1 ... 1 1 1]\n",
      " ...\n",
      " [0 1 0 ... 0 0 0]\n",
      " [1 0 0 ... 0 0 0]\n",
      " [0 0 0 ... 0 0 0]]\n"
     ]
    }
   ],
   "source": [
    "wasted_circ = transform_to_wasted(circ, controls, auxs, target)\n",
    "print(wasted_circ.draw(fold=-1))\n",
    "outputs_wasted = get_all_outputs(wasted_circ)\n",
    "\n",
    "print(outputs_wasted)"
   ]
  },
  {
   "cell_type": "code",
   "execution_count": 28,
   "id": "93ed2995",
   "metadata": {},
   "outputs": [
    {
     "name": "stdout",
     "output_type": "stream",
     "text": [
      "                         \n",
      "q_0: ──■─────────────────\n",
      "       │                 \n",
      "q_1: ──■─────────────────\n",
      "       │                 \n",
      "q_2: ──┼────■────────────\n",
      "       │    │            \n",
      "q_3: ──┼────┼────■───────\n",
      "       │    │    │       \n",
      "q_4: ──┼────┼────┼────■──\n",
      "     ┌─┴─┐  │    │    │  \n",
      "q_5: ┤ X ├──■────┼────┼──\n",
      "     └───┘┌─┴─┐  │    │  \n",
      "q_6: ─────┤ X ├──■────┼──\n",
      "          └───┘┌─┴─┐  │  \n",
      "q_7: ──────────┤ X ├──■──\n",
      "               └───┘┌─┴─┐\n",
      "q_8: ───────────────┤ X ├\n",
      "                    └───┘\n",
      "29.985743045806885\n",
      "[[1 1 1 ... 1 0 1]\n",
      " [0 1 1 ... 0 1 0]\n",
      " [1 0 1 ... 0 1 0]\n",
      " ...\n",
      " [0 1 0 ... 0 0 0]\n",
      " [1 0 0 ... 0 0 0]\n",
      " [0 0 0 ... 0 0 0]]\n"
     ]
    }
   ],
   "source": [
    "clean_wasted_circ = transform_to_wasted(clean_circ, controls, auxs, target)\n",
    "print(clean_wasted_circ.draw(fold=-1))\n",
    "outputs_clean_wasted = get_all_outputs(clean_wasted_circ)\n",
    "\n",
    "print(outputs_clean_wasted)"
   ]
  },
  {
   "cell_type": "code",
   "execution_count": 29,
   "id": "1e93deae",
   "metadata": {},
   "outputs": [
    {
     "name": "stdout",
     "output_type": "stream",
     "text": [
      "True\n",
      "True\n",
      "True\n",
      "True\n"
     ]
    }
   ],
   "source": [
    "print(check_mct(inputs, outputs_dirty, controls, auxs, target, all_auxs_type_in='dirty', all_auxs_type_out='non_wasted'))\n",
    "print(\n",
    "    check_mct(inputs, outputs_clean, controls, auxs, target, all_auxs_type_in='clean', all_auxs_type_out='non_wasted'))\n",
    "print(check_mct(inputs, outputs_wasted, controls, auxs, target, all_auxs_type_in='dirty', all_auxs_type_out='wasted'))\n",
    "print(check_mct(inputs, outputs_clean_wasted, controls, auxs, target, all_auxs_type_in='clean',\n",
    "                all_auxs_type_out='wasted'))\n"
   ]
  }
 ],
 "metadata": {
  "kernelspec": {
   "display_name": "Python 3 (ipykernel)",
   "language": "python",
   "name": "python3"
  },
  "language_info": {
   "codemirror_mode": {
    "name": "ipython",
    "version": 3
   },
   "file_extension": ".py",
   "mimetype": "text/x-python",
   "name": "python",
   "nbconvert_exporter": "python",
   "pygments_lexer": "ipython3",
   "version": "3.11.4"
  }
 },
 "nbformat": 4,
 "nbformat_minor": 5
}
